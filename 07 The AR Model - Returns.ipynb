{
 "cells": [
  {
   "cell_type": "markdown",
   "metadata": {},
   "source": [
    "## Importing the relevant packages\n"
   ]
  },
  {
   "cell_type": "code",
   "execution_count": null,
   "metadata": {},
   "outputs": [],
   "source": [
    "import matplotlib.pyplot as plt\n",
    "import pandas as pd\n",
    "import seaborn as sns\n",
    "import statsmodels.graphics.tsaplots as sgt\n",
    "import statsmodels.tsa.stattools as sts\n",
    "from statsmodels.tsa.arima.model import ARIMA\n",
    "\n",
    "from tools.metrics_generator import MetricsGenerator\n",
    "from tools.model_generator import ModelGenerator\n",
    "\n",
    "sns.set_theme(context=\"notebook\", style=\"white\")"
   ]
  },
  {
   "cell_type": "markdown",
   "metadata": {},
   "source": [
    "## Importing the Data and Pre-processing "
   ]
  },
  {
   "cell_type": "code",
   "execution_count": 2,
   "metadata": {},
   "outputs": [],
   "source": [
    "raw_csv_data = pd.read_csv(\"Index2018.csv\")\n",
    "df_comp = raw_csv_data.copy()\n",
    "df_comp.date = pd.to_datetime(df_comp.date, dayfirst=True)\n",
    "df_comp.set_index(\"date\", inplace=True)\n",
    "df_comp = df_comp.asfreq(\"b\")\n",
    "df_comp = df_comp.ffill()"
   ]
  },
  {
   "cell_type": "code",
   "execution_count": 3,
   "metadata": {},
   "outputs": [],
   "source": [
    "df_comp[\"market_value\"] = df_comp.ftse"
   ]
  },
  {
   "cell_type": "code",
   "execution_count": 4,
   "metadata": {},
   "outputs": [],
   "source": [
    "del df_comp[\"spx\"]\n",
    "del df_comp[\"dax\"]\n",
    "del df_comp[\"ftse\"]\n",
    "del df_comp[\"nikkei\"]\n",
    "size = int(len(df_comp) * 0.8)\n",
    "df, df_test = df_comp.iloc[:size].copy(), df_comp.iloc[size:].copy()"
   ]
  },
  {
   "cell_type": "markdown",
   "metadata": {},
   "source": [
    "## Stationarity ADF Test"
   ]
  },
  {
   "cell_type": "code",
   "execution_count": 5,
   "metadata": {
    "scrolled": true
   },
   "outputs": [
    {
     "data": {
      "text/plain": [
       "(np.float64(-1.9041551418836848),\n",
       " np.float64(0.33010893277028397),\n",
       " 6,\n",
       " 5014,\n",
       " {'1%': np.float64(-3.4316548765428174),\n",
       "  '5%': np.float64(-2.8621166146845334),\n",
       "  '10%': np.float64(-2.5670769326348926)},\n",
       " np.float64(54854.15304507557))"
      ]
     },
     "execution_count": 5,
     "metadata": {},
     "output_type": "execute_result"
    }
   ],
   "source": [
    "sts.adfuller(df[\"market_value\"])"
   ]
  },
  {
   "cell_type": "markdown",
   "metadata": {},
   "source": [
    "- The t-statistic (-1.90) is higher than the 5% critical value.\n",
    "- The p-value is higher than 0.05.\n",
    "- The null hypothesis can not be rejected and the time series is **non-stationary**."
   ]
  },
  {
   "cell_type": "markdown",
   "metadata": {},
   "source": [
    "## Using Returns"
   ]
  },
  {
   "cell_type": "markdown",
   "metadata": {},
   "source": [
    "- Because price data is non-stationary, an AR model is not suitable.\n",
    "- However, it can be transformed into returns so that it fits the assumptions of stationarity. "
   ]
  },
  {
   "cell_type": "code",
   "execution_count": 6,
   "metadata": {},
   "outputs": [
    {
     "data": {
      "application/vnd.microsoft.datawrangler.viewer.v0+json": {
       "columns": [
        {
         "name": "date",
         "rawType": "datetime64[ns]",
         "type": "datetime"
        },
        {
         "name": "market_value",
         "rawType": "float64",
         "type": "float"
        },
        {
         "name": "returns",
         "rawType": "float64",
         "type": "float"
        }
       ],
       "ref": "2d4f7369-9b85-4e2e-a7a9-797fd1b9e959",
       "rows": [
        [
         "1994-01-10 00:00:00",
         "3440.58",
         "-0.1567043337454055"
        ],
        [
         "1994-01-11 00:00:00",
         "3413.77",
         "-0.7792290834684801"
        ],
        [
         "1994-01-12 00:00:00",
         "3372.02",
         "-1.2229880747677835"
        ],
        [
         "1994-01-13 00:00:00",
         "3360.01",
         "-0.3561663335330034"
        ],
        [
         "1994-01-14 00:00:00",
         "3400.56",
         "1.2068416463046239"
        ],
        [
         "1994-01-17 00:00:00",
         "3407.83",
         "0.21378831721834413"
        ],
        [
         "1994-01-18 00:00:00",
         "3437.01",
         "0.8562633699451094"
        ],
        [
         "1994-01-19 00:00:00",
         "3475.15",
         "1.109685453344622"
        ],
        [
         "1994-01-20 00:00:00",
         "3469.99",
         "-0.14848279930363972"
        ],
        [
         "1994-01-21 00:00:00",
         "3484.21",
         "0.4097994518716286"
        ],
        [
         "1994-01-24 00:00:00",
         "3481.42",
         "-0.08007554079690893"
        ],
        [
         "1994-01-25 00:00:00",
         "3443.97",
         "-1.0757104859511424"
        ],
        [
         "1994-01-26 00:00:00",
         "3436.08",
         "-0.22909607226543338"
        ],
        [
         "1994-01-27 00:00:00",
         "3427.25",
         "-0.2569788829130837"
        ],
        [
         "1994-01-28 00:00:00",
         "3447.45",
         "0.5893938288715317"
        ],
        [
         "1994-01-31 00:00:00",
         "3491.83",
         "1.2873283151314752"
        ],
        [
         "1994-02-01 00:00:00",
         "3481.47",
         "-0.29669256521652754"
        ],
        [
         "1994-02-02 00:00:00",
         "3520.27",
         "1.1144717604919752"
        ],
        [
         "1994-02-03 00:00:00",
         "3491.48",
         "-0.817834995611133"
        ],
        [
         "1994-02-04 00:00:00",
         "3475.44",
         "-0.4594040349651163"
        ],
        [
         "1994-02-07 00:00:00",
         "3419.07",
         "-1.6219529038049796"
        ],
        [
         "1994-02-08 00:00:00",
         "3440.2",
         "0.6180043111138289"
        ],
        [
         "1994-02-09 00:00:00",
         "3429.11",
         "-0.32236497878029846"
        ],
        [
         "1994-02-10 00:00:00",
         "3406.95",
         "-0.6462318210847751"
        ],
        [
         "1994-02-11 00:00:00",
         "3378.87",
         "-0.824197596090348"
        ],
        [
         "1994-02-14 00:00:00",
         "3363.53",
         "-0.45399793422060686"
        ],
        [
         "1994-02-15 00:00:00",
         "3393.16",
         "0.8809197480028397"
        ],
        [
         "1994-02-16 00:00:00",
         "3417.73",
         "0.7241037852621313"
        ],
        [
         "1994-02-17 00:00:00",
         "3425.3",
         "0.22149204296419978"
        ],
        [
         "1994-02-18 00:00:00",
         "3382.6",
         "-1.246606136688766"
        ],
        [
         "1994-02-21 00:00:00",
         "3350.26",
         "-0.9560692958079486"
        ],
        [
         "1994-02-22 00:00:00",
         "3333.75",
         "-0.4927975739196455"
        ],
        [
         "1994-02-23 00:00:00",
         "3341.86",
         "0.2432695913010985"
        ],
        [
         "1994-02-24 00:00:00",
         "3267.46",
         "-2.226305111524718"
        ],
        [
         "1994-02-25 00:00:00",
         "3281.2",
         "0.42051012101143037"
        ],
        [
         "1994-02-28 00:00:00",
         "3328.1",
         "1.4293551139826999"
        ],
        [
         "1994-03-01 00:00:00",
         "3270.6",
         "-1.727712508638568"
        ],
        [
         "1994-03-02 00:00:00",
         "3248.09",
         "-0.6882529199535137"
        ],
        [
         "1994-03-03 00:00:00",
         "3246.5",
         "-0.048951845546152395"
        ],
        [
         "1994-03-04 00:00:00",
         "3278.0",
         "0.9702756815031632"
        ],
        [
         "1994-03-07 00:00:00",
         "3305.91",
         "0.8514338010982225"
        ],
        [
         "1994-03-08 00:00:00",
         "3264.4",
         "-1.255630068574154"
        ],
        [
         "1994-03-09 00:00:00",
         "3246.7",
         "-0.5422129640975437"
        ],
        [
         "1994-03-10 00:00:00",
         "3233.9",
         "-0.39424646564202304"
        ],
        [
         "1994-03-11 00:00:00",
         "3191.9",
         "-1.2987414576826728"
        ],
        [
         "1994-03-14 00:00:00",
         "3233.4",
         "1.3001660453021646"
        ],
        [
         "1994-03-15 00:00:00",
         "3267.4",
         "1.051524710830698"
        ],
        [
         "1994-03-16 00:00:00",
         "3242.9",
         "-0.7498316704413255"
        ],
        [
         "1994-03-17 00:00:00",
         "3255.7",
         "0.39470843997655436"
        ],
        [
         "1994-03-18 00:00:00",
         "3218.1",
         "-1.154897564271895"
        ]
       ],
       "shape": {
        "columns": 2,
        "rows": 5020
       }
      },
      "text/html": [
       "<div>\n",
       "<style scoped>\n",
       "    .dataframe tbody tr th:only-of-type {\n",
       "        vertical-align: middle;\n",
       "    }\n",
       "\n",
       "    .dataframe tbody tr th {\n",
       "        vertical-align: top;\n",
       "    }\n",
       "\n",
       "    .dataframe thead th {\n",
       "        text-align: right;\n",
       "    }\n",
       "</style>\n",
       "<table border=\"1\" class=\"dataframe\">\n",
       "  <thead>\n",
       "    <tr style=\"text-align: right;\">\n",
       "      <th></th>\n",
       "      <th>market_value</th>\n",
       "      <th>returns</th>\n",
       "    </tr>\n",
       "    <tr>\n",
       "      <th>date</th>\n",
       "      <th></th>\n",
       "      <th></th>\n",
       "    </tr>\n",
       "  </thead>\n",
       "  <tbody>\n",
       "    <tr>\n",
       "      <th>1994-01-10</th>\n",
       "      <td>3440.58</td>\n",
       "      <td>-0.156704</td>\n",
       "    </tr>\n",
       "    <tr>\n",
       "      <th>1994-01-11</th>\n",
       "      <td>3413.77</td>\n",
       "      <td>-0.779229</td>\n",
       "    </tr>\n",
       "    <tr>\n",
       "      <th>1994-01-12</th>\n",
       "      <td>3372.02</td>\n",
       "      <td>-1.222988</td>\n",
       "    </tr>\n",
       "    <tr>\n",
       "      <th>1994-01-13</th>\n",
       "      <td>3360.01</td>\n",
       "      <td>-0.356166</td>\n",
       "    </tr>\n",
       "    <tr>\n",
       "      <th>1994-01-14</th>\n",
       "      <td>3400.56</td>\n",
       "      <td>1.206842</td>\n",
       "    </tr>\n",
       "    <tr>\n",
       "      <th>...</th>\n",
       "      <td>...</td>\n",
       "      <td>...</td>\n",
       "    </tr>\n",
       "    <tr>\n",
       "      <th>2013-04-01</th>\n",
       "      <td>6411.74</td>\n",
       "      <td>0.000000</td>\n",
       "    </tr>\n",
       "    <tr>\n",
       "      <th>2013-04-02</th>\n",
       "      <td>6490.66</td>\n",
       "      <td>1.230867</td>\n",
       "    </tr>\n",
       "    <tr>\n",
       "      <th>2013-04-03</th>\n",
       "      <td>6420.28</td>\n",
       "      <td>-1.084327</td>\n",
       "    </tr>\n",
       "    <tr>\n",
       "      <th>2013-04-04</th>\n",
       "      <td>6344.11</td>\n",
       "      <td>-1.186397</td>\n",
       "    </tr>\n",
       "    <tr>\n",
       "      <th>2013-04-05</th>\n",
       "      <td>6249.77</td>\n",
       "      <td>-1.487049</td>\n",
       "    </tr>\n",
       "  </tbody>\n",
       "</table>\n",
       "<p>5020 rows × 2 columns</p>\n",
       "</div>"
      ],
      "text/plain": [
       "            market_value   returns\n",
       "date                              \n",
       "1994-01-10       3440.58 -0.156704\n",
       "1994-01-11       3413.77 -0.779229\n",
       "1994-01-12       3372.02 -1.222988\n",
       "1994-01-13       3360.01 -0.356166\n",
       "1994-01-14       3400.56  1.206842\n",
       "...                  ...       ...\n",
       "2013-04-01       6411.74  0.000000\n",
       "2013-04-02       6490.66  1.230867\n",
       "2013-04-03       6420.28 -1.084327\n",
       "2013-04-04       6344.11 -1.186397\n",
       "2013-04-05       6249.77 -1.487049\n",
       "\n",
       "[5020 rows x 2 columns]"
      ]
     },
     "execution_count": 6,
     "metadata": {},
     "output_type": "execute_result"
    }
   ],
   "source": [
    "# Calculate simple returns and convert to a percentage\n",
    "df[\"returns\"] = df[\"market_value\"].pct_change(periods=1).mul(100)\n",
    "\n",
    "# Remove the first row as returns cannot be calculated for the first row\n",
    "df = df[1:]\n",
    "df"
   ]
  },
  {
   "cell_type": "markdown",
   "metadata": {},
   "source": [
    "Perform an ADF on the returns."
   ]
  },
  {
   "cell_type": "code",
   "execution_count": 7,
   "metadata": {},
   "outputs": [
    {
     "data": {
      "text/plain": [
       "(np.float64(-12.770265719497264),\n",
       " np.float64(7.798058336037375e-24),\n",
       " 32,\n",
       " 4987,\n",
       " {'1%': np.float64(-3.431661944885779),\n",
       "  '5%': np.float64(-2.8621197374408225),\n",
       "  '10%': np.float64(-2.5670785949998973)},\n",
       " np.float64(15696.767245697501))"
      ]
     },
     "execution_count": 7,
     "metadata": {},
     "output_type": "execute_result"
    }
   ],
   "source": [
    "sts.adfuller(df[\"returns\"])"
   ]
  },
  {
   "cell_type": "markdown",
   "metadata": {},
   "source": [
    "- The t-statistic (-12.77) is more negative than the 5% critical value.\n",
    "- The computed p-value is lower than 0.05.\n",
    "- Both are significant. The null hypothesis can therefore be rejected, indicating that the data is meets the assumptions of stationarity."
   ]
  },
  {
   "cell_type": "markdown",
   "metadata": {},
   "source": [
    "## ACF and PACF for Returns"
   ]
  },
  {
   "cell_type": "code",
   "execution_count": 8,
   "metadata": {},
   "outputs": [
    {
     "data": {
      "image/png": "[encoded data removed]",
      "text/plain": [
       "<Figure size 640x480 with 1 Axes>"
      ]
     },
     "metadata": {},
     "output_type": "display_data"
    }
   ],
   "source": [
    "sgt.plot_acf(df[\"returns\"], zero=False, lags=40, auto_ylims=True)\n",
    "plt.title(\"ACF: FTSE Returns\", size=24)\n",
    "plt.xlabel(\"Lags\")\n",
    "plt.ylabel(\"Autocorrelation Coefficient\")\n",
    "plt.show()"
   ]
  },
  {
   "cell_type": "markdown",
   "metadata": {},
   "source": [
    "- The ACF graph is very different from that for prices.\n",
    "- The coefficients vary in sign, magnitude and significance.\n",
    "- The first few lags are predomnantly significant and predominantly negative. This indicates that consecutive returns move in different directions.\n",
    "- This suggests that returns oevr the entire week are relevant to the current one. (NB A business weekis 5 days.)\n",
    "- The negative relationship can be interpreted as some form of natural adjustment occuring in the market."
   ]
  },
  {
   "cell_type": "code",
   "execution_count": 9,
   "metadata": {},
   "outputs": [
    {
     "data": {
      "image/png": "[encoded data removed]",
      "text/plain": [
       "<Figure size 640x480 with 1 Axes>"
      ]
     },
     "metadata": {},
     "output_type": "display_data"
    }
   ],
   "source": [
    "sgt.plot_pacf(\n",
    "    df[\"returns\"], alpha=0.05, zero=False, lags=40, method=\"ols\", auto_ylims=True\n",
    ")\n",
    "plt.title(\"PACF: FTSE Returns\", size=24)\n",
    "plt.xlabel(\"Lags\")\n",
    "plt.ylabel(\"Autocorrelation Coefficient\")\n",
    "plt.show()"
   ]
  },
  {
   "cell_type": "markdown",
   "metadata": {},
   "source": [
    "- The results are very similar to those for the ACF.\n",
    "- Again, this indicates opposing price movements on a daily basis, which fits in with the expectation of cyclical changes.\n",
    "- As the lags increase, the less relevant the coefficient values become. This is because the majority of effects that they have on current vaues should already have been accounted for due to the recursive nature of autoregressive models.\n",
    "- 5 of the first 6 lags are negative. This indicates **clustering**, i.e. temporal structure exists.\n",
    "  - There is mean-reverting behavior: A high value tends to be followed by a lower value, and vice versa.\n",
    "  - The effect persists across multiple lags, which might suggest **volatility clustering** (a common pattern in financial time series)."
   ]
  },
  {
   "cell_type": "markdown",
   "metadata": {},
   "source": [
    "## AR(1) for Returns"
   ]
  },
  {
   "cell_type": "code",
   "execution_count": 10,
   "metadata": {},
   "outputs": [
    {
     "data": {
      "text/html": [
       "<table class=\"simpletable\">\n",
       "<caption>SARIMAX Results</caption>\n",
       "<tr>\n",
       "  <th>Dep. Variable:</th>        <td>returns</td>     <th>  No. Observations:  </th>   <td>5020</td>   \n",
       "</tr>\n",
       "<tr>\n",
       "  <th>Model:</th>            <td>ARIMA(1, 0, 0)</td>  <th>  Log Likelihood     </th> <td>-7929.749</td>\n",
       "</tr>\n",
       "<tr>\n",
       "  <th>Date:</th>            <td>Sun, 22 Jun 2025</td> <th>  AIC                </th> <td>15865.497</td>\n",
       "</tr>\n",
       "<tr>\n",
       "  <th>Time:</th>                <td>11:41:07</td>     <th>  BIC                </th> <td>15885.061</td>\n",
       "</tr>\n",
       "<tr>\n",
       "  <th>Sample:</th>             <td>01-10-1994</td>    <th>  HQIC               </th> <td>15872.353</td>\n",
       "</tr>\n",
       "<tr>\n",
       "  <th></th>                   <td>- 04-05-2013</td>   <th>                     </th>     <td> </td>    \n",
       "</tr>\n",
       "<tr>\n",
       "  <th>Covariance Type:</th>        <td>opg</td>       <th>                     </th>     <td> </td>    \n",
       "</tr>\n",
       "</table>\n",
       "<table class=\"simpletable\">\n",
       "<tr>\n",
       "     <td></td>       <th>coef</th>     <th>std err</th>      <th>z</th>      <th>P>|z|</th>  <th>[0.025</th>    <th>0.975]</th>  \n",
       "</tr>\n",
       "<tr>\n",
       "  <th>const</th>  <td>    0.0188</td> <td>    0.016</td> <td>    1.143</td> <td> 0.253</td> <td>   -0.013</td> <td>    0.051</td>\n",
       "</tr>\n",
       "<tr>\n",
       "  <th>ar.L1</th>  <td>   -0.0230</td> <td>    0.009</td> <td>   -2.697</td> <td> 0.007</td> <td>   -0.040</td> <td>   -0.006</td>\n",
       "</tr>\n",
       "<tr>\n",
       "  <th>sigma2</th> <td>    1.3790</td> <td>    0.014</td> <td>  100.092</td> <td> 0.000</td> <td>    1.352</td> <td>    1.406</td>\n",
       "</tr>\n",
       "</table>\n",
       "<table class=\"simpletable\">\n",
       "<tr>\n",
       "  <th>Ljung-Box (L1) (Q):</th>     <td>0.01</td> <th>  Jarque-Bera (JB):  </th> <td>7872.72</td>\n",
       "</tr>\n",
       "<tr>\n",
       "  <th>Prob(Q):</th>                <td>0.93</td> <th>  Prob(JB):          </th>  <td>0.00</td>  \n",
       "</tr>\n",
       "<tr>\n",
       "  <th>Heteroskedasticity (H):</th> <td>2.04</td> <th>  Skew:              </th>  <td>-0.03</td> \n",
       "</tr>\n",
       "<tr>\n",
       "  <th>Prob(H) (two-sided):</th>    <td>0.00</td> <th>  Kurtosis:          </th>  <td>9.13</td>  \n",
       "</tr>\n",
       "</table><br/><br/>Warnings:<br/>[1] Covariance matrix calculated using the outer product of gradients (complex-step)."
      ],
      "text/latex": [
       "\\begin{center}\n",
       "\\begin{tabular}{lclc}\n",
       "\\toprule\n",
       "\\textbf{Dep. Variable:}          &     returns      & \\textbf{  No. Observations:  } &    5020     \\\\\n",
       "\\textbf{Model:}                  &  ARIMA(1, 0, 0)  & \\textbf{  Log Likelihood     } & -7929.749   \\\\\n",
       "\\textbf{Date:}                   & Sun, 22 Jun 2025 & \\textbf{  AIC                } & 15865.497   \\\\\n",
       "\\textbf{Time:}                   &     11:41:07     & \\textbf{  BIC                } & 15885.061   \\\\\n",
       "\\textbf{Sample:}                 &    01-10-1994    & \\textbf{  HQIC               } & 15872.353   \\\\\n",
       "\\textbf{}                        &   - 04-05-2013   & \\textbf{                     } &             \\\\\n",
       "\\textbf{Covariance Type:}        &       opg        & \\textbf{                     } &             \\\\\n",
       "\\bottomrule\n",
       "\\end{tabular}\n",
       "\\begin{tabular}{lcccccc}\n",
       "                & \\textbf{coef} & \\textbf{std err} & \\textbf{z} & \\textbf{P$> |$z$|$} & \\textbf{[0.025} & \\textbf{0.975]}  \\\\\n",
       "\\midrule\n",
       "\\textbf{const}  &       0.0188  &        0.016     &     1.143  &         0.253        &       -0.013    &        0.051     \\\\\n",
       "\\textbf{ar.L1}  &      -0.0230  &        0.009     &    -2.697  &         0.007        &       -0.040    &       -0.006     \\\\\n",
       "\\textbf{sigma2} &       1.3790  &        0.014     &   100.092  &         0.000        &        1.352    &        1.406     \\\\\n",
       "\\bottomrule\n",
       "\\end{tabular}\n",
       "\\begin{tabular}{lclc}\n",
       "\\textbf{Ljung-Box (L1) (Q):}     & 0.01 & \\textbf{  Jarque-Bera (JB):  } & 7872.72  \\\\\n",
       "\\textbf{Prob(Q):}                & 0.93 & \\textbf{  Prob(JB):          } &   0.00   \\\\\n",
       "\\textbf{Heteroskedasticity (H):} & 2.04 & \\textbf{  Skew:              } &  -0.03   \\\\\n",
       "\\textbf{Prob(H) (two-sided):}    & 0.00 & \\textbf{  Kurtosis:          } &   9.13   \\\\\n",
       "\\bottomrule\n",
       "\\end{tabular}\n",
       "%\\caption{SARIMAX Results}\n",
       "\\end{center}\n",
       "\n",
       "Warnings: \\newline\n",
       " [1] Covariance matrix calculated using the outer product of gradients (complex-step)."
      ],
      "text/plain": [
       "<class 'statsmodels.iolib.summary.Summary'>\n",
       "\"\"\"\n",
       "                               SARIMAX Results                                \n",
       "==============================================================================\n",
       "Dep. Variable:                returns   No. Observations:                 5020\n",
       "Model:                 ARIMA(1, 0, 0)   Log Likelihood               -7929.749\n",
       "Date:                Sun, 22 Jun 2025   AIC                          15865.497\n",
       "Time:                        11:41:07   BIC                          15885.061\n",
       "Sample:                    01-10-1994   HQIC                         15872.353\n",
       "                         - 04-05-2013                                         \n",
       "Covariance Type:                  opg                                         \n",
       "==============================================================================\n",
       "                 coef    std err          z      P>|z|      [0.025      0.975]\n",
       "------------------------------------------------------------------------------\n",
       "const          0.0188      0.016      1.143      0.253      -0.013       0.051\n",
       "ar.L1         -0.0230      0.009     -2.697      0.007      -0.040      -0.006\n",
       "sigma2         1.3790      0.014    100.092      0.000       1.352       1.406\n",
       "===================================================================================\n",
       "Ljung-Box (L1) (Q):                   0.01   Jarque-Bera (JB):              7872.72\n",
       "Prob(Q):                              0.93   Prob(JB):                         0.00\n",
       "Heteroskedasticity (H):               2.04   Skew:                            -0.03\n",
       "Prob(H) (two-sided):                  0.00   Kurtosis:                         9.13\n",
       "===================================================================================\n",
       "\n",
       "Warnings:\n",
       "[1] Covariance matrix calculated using the outer product of gradients (complex-step).\n",
       "\"\"\""
      ]
     },
     "execution_count": 10,
     "metadata": {},
     "output_type": "execute_result"
    }
   ],
   "source": [
    "model_returns = ARIMA(df[\"returns\"], order=(1, 0, 0))\n",
    "result_returns = model_returns.fit()\n",
    "result_returns.summary()"
   ]
  },
  {
   "cell_type": "markdown",
   "metadata": {},
   "source": [
    "- The p-value for $C$ is more than 0.05 and the critical values for this contain 0 within the range. Therefore, it is not significant.\n",
    "- The p-value for the L1 coefficient is less than 0.05 and the critical value range does not cross 0. Therefore, the L1 coefficient is significant."
   ]
  },
  {
   "cell_type": "markdown",
   "metadata": {},
   "source": [
    "## Higher-Lag AR Models for Returns"
   ]
  },
  {
   "cell_type": "code",
   "execution_count": 11,
   "metadata": {},
   "outputs": [
    {
     "name": "stdout",
     "output_type": "stream",
     "text": [
      "AR_1:\n",
      "                               SARIMAX Results                                \n",
      "==============================================================================\n",
      "Dep. Variable:                returns   No. Observations:                 5020\n",
      "Model:                 ARIMA(1, 0, 0)   Log Likelihood               -7929.749\n",
      "Date:                Sun, 22 Jun 2025   AIC                          15865.497\n",
      "Time:                        11:41:24   BIC                          15885.061\n",
      "Sample:                    01-10-1994   HQIC                         15872.353\n",
      "                         - 04-05-2013                                         \n",
      "Covariance Type:                  opg                                         \n",
      "==============================================================================\n",
      "                 coef    std err          z      P>|z|      [0.025      0.975]\n",
      "------------------------------------------------------------------------------\n",
      "const          0.0188      0.016      1.143      0.253      -0.013       0.051\n",
      "ar.L1         -0.0230      0.009     -2.697      0.007      -0.040      -0.006\n",
      "sigma2         1.3790      0.014    100.092      0.000       1.352       1.406\n",
      "===================================================================================\n",
      "Ljung-Box (L1) (Q):                   0.01   Jarque-Bera (JB):              7872.72\n",
      "Prob(Q):                              0.93   Prob(JB):                         0.00\n",
      "Heteroskedasticity (H):               2.04   Skew:                            -0.03\n",
      "Prob(H) (two-sided):                  0.00   Kurtosis:                         9.13\n",
      "===================================================================================\n",
      "\n",
      "Warnings:\n",
      "[1] Covariance matrix calculated using the outer product of gradients (complex-step).\n",
      "\n",
      "\n",
      "AR_2:\n",
      "                               SARIMAX Results                                \n",
      "==============================================================================\n",
      "Dep. Variable:                returns   No. Observations:                 5020\n",
      "Model:                 ARIMA(2, 0, 0)   Log Likelihood               -7923.456\n",
      "Date:                Sun, 22 Jun 2025   AIC                          15854.911\n",
      "Time:                        11:41:24   BIC                          15880.996\n",
      "Sample:                    01-10-1994   HQIC                         15864.052\n",
      "                         - 04-05-2013                                         \n",
      "Covariance Type:                  opg                                         \n",
      "==============================================================================\n",
      "                 coef    std err          z      P>|z|      [0.025      0.975]\n",
      "------------------------------------------------------------------------------\n",
      "const          0.0188      0.016      1.194      0.233      -0.012       0.050\n",
      "ar.L1         -0.0242      0.009     -2.799      0.005      -0.041      -0.007\n",
      "ar.L2         -0.0500      0.008     -6.371      0.000      -0.065      -0.035\n",
      "sigma2         1.3756      0.014     99.592      0.000       1.348       1.403\n",
      "===================================================================================\n",
      "Ljung-Box (L1) (Q):                   0.08   Jarque-Bera (JB):              7730.29\n",
      "Prob(Q):                              0.77   Prob(JB):                         0.00\n",
      "Heteroskedasticity (H):               2.03   Skew:                            -0.06\n",
      "Prob(H) (two-sided):                  0.00   Kurtosis:                         9.08\n",
      "===================================================================================\n",
      "\n",
      "Warnings:\n",
      "[1] Covariance matrix calculated using the outer product of gradients (complex-step).\n",
      "\n",
      "\n",
      "AR_3:\n",
      "                               SARIMAX Results                                \n",
      "==============================================================================\n",
      "Dep. Variable:                returns   No. Observations:                 5020\n",
      "Model:                 ARIMA(3, 0, 0)   Log Likelihood               -7906.738\n",
      "Date:                Sun, 22 Jun 2025   AIC                          15823.477\n",
      "Time:                        11:41:24   BIC                          15856.083\n",
      "Sample:                    01-10-1994   HQIC                         15834.902\n",
      "                         - 04-05-2013                                         \n",
      "Covariance Type:                  opg                                         \n",
      "==============================================================================\n",
      "                 coef    std err          z      P>|z|      [0.025      0.975]\n",
      "------------------------------------------------------------------------------\n",
      "const          0.0189      0.015      1.272      0.203      -0.010       0.048\n",
      "ar.L1         -0.0283      0.009     -3.199      0.001      -0.046      -0.011\n",
      "ar.L2         -0.0521      0.008     -6.684      0.000      -0.067      -0.037\n",
      "ar.L3         -0.0815      0.008    -10.192      0.000      -0.097      -0.066\n",
      "sigma2         1.3664      0.014     94.518      0.000       1.338       1.395\n",
      "===================================================================================\n",
      "Ljung-Box (L1) (Q):                   0.07   Jarque-Bera (JB):              6859.16\n",
      "Prob(Q):                              0.79   Prob(JB):                         0.00\n",
      "Heteroskedasticity (H):               2.02   Skew:                            -0.15\n",
      "Prob(H) (two-sided):                  0.00   Kurtosis:                         8.72\n",
      "===================================================================================\n",
      "\n",
      "Warnings:\n",
      "[1] Covariance matrix calculated using the outer product of gradients (complex-step).\n",
      "\n",
      "\n",
      "AR_4:\n",
      "                               SARIMAX Results                                \n",
      "==============================================================================\n",
      "Dep. Variable:                returns   No. Observations:                 5020\n",
      "Model:                 ARIMA(4, 0, 0)   Log Likelihood               -7901.330\n",
      "Date:                Sun, 22 Jun 2025   AIC                          15814.661\n",
      "Time:                        11:41:24   BIC                          15853.788\n",
      "Sample:                    01-10-1994   HQIC                         15828.371\n",
      "                         - 04-05-2013                                         \n",
      "Covariance Type:                  opg                                         \n",
      "==============================================================================\n",
      "                 coef    std err          z      P>|z|      [0.025      0.975]\n",
      "------------------------------------------------------------------------------\n",
      "const          0.0188      0.016      1.208      0.227      -0.012       0.049\n",
      "ar.L1         -0.0245      0.009     -2.770      0.006      -0.042      -0.007\n",
      "ar.L2         -0.0496      0.008     -6.327      0.000      -0.065      -0.034\n",
      "ar.L3         -0.0802      0.008     -9.995      0.000      -0.096      -0.064\n",
      "ar.L4          0.0464      0.008      5.650      0.000       0.030       0.063\n",
      "sigma2         1.3635      0.015     92.776      0.000       1.335       1.392\n",
      "===================================================================================\n",
      "Ljung-Box (L1) (Q):                   0.04   Jarque-Bera (JB):              6580.94\n",
      "Prob(Q):                              0.84   Prob(JB):                         0.00\n",
      "Heteroskedasticity (H):               2.00   Skew:                            -0.12\n",
      "Prob(H) (two-sided):                  0.00   Kurtosis:                         8.60\n",
      "===================================================================================\n",
      "\n",
      "Warnings:\n",
      "[1] Covariance matrix calculated using the outer product of gradients (complex-step).\n",
      "\n",
      "\n",
      "AR_5:\n",
      "                               SARIMAX Results                                \n",
      "==============================================================================\n",
      "Dep. Variable:                returns   No. Observations:                 5020\n",
      "Model:                 ARIMA(5, 0, 0)   Log Likelihood               -7892.390\n",
      "Date:                Sun, 22 Jun 2025   AIC                          15798.779\n",
      "Time:                        11:41:24   BIC                          15844.428\n",
      "Sample:                    01-10-1994   HQIC                         15814.775\n",
      "                         - 04-05-2013                                         \n",
      "Covariance Type:                  opg                                         \n",
      "==============================================================================\n",
      "                 coef    std err          z      P>|z|      [0.025      0.975]\n",
      "------------------------------------------------------------------------------\n",
      "const          0.0189      0.015      1.273      0.203      -0.010       0.048\n",
      "ar.L1         -0.0217      0.009     -2.396      0.017      -0.040      -0.004\n",
      "ar.L2         -0.0544      0.008     -6.826      0.000      -0.070      -0.039\n",
      "ar.L3         -0.0831      0.008    -10.406      0.000      -0.099      -0.067\n",
      "ar.L4          0.0449      0.008      5.431      0.000       0.029       0.061\n",
      "ar.L5         -0.0596      0.008     -7.468      0.000      -0.075      -0.044\n",
      "sigma2         1.3586      0.015     92.526      0.000       1.330       1.387\n",
      "===================================================================================\n",
      "Ljung-Box (L1) (Q):                   0.04   Jarque-Bera (JB):              6398.87\n",
      "Prob(Q):                              0.84   Prob(JB):                         0.00\n",
      "Heteroskedasticity (H):               2.00   Skew:                            -0.17\n",
      "Prob(H) (two-sided):                  0.00   Kurtosis:                         8.52\n",
      "===================================================================================\n",
      "\n",
      "Warnings:\n",
      "[1] Covariance matrix calculated using the outer product of gradients (complex-step).\n",
      "\n",
      "\n",
      "AR_6:\n",
      "                               SARIMAX Results                                \n",
      "==============================================================================\n",
      "Dep. Variable:                returns   No. Observations:                 5020\n",
      "Model:                 ARIMA(6, 0, 0)   Log Likelihood               -7886.945\n",
      "Date:                Sun, 22 Jun 2025   AIC                          15789.890\n",
      "Time:                        11:41:24   BIC                          15842.059\n",
      "Sample:                    01-10-1994   HQIC                         15808.170\n",
      "                         - 04-05-2013                                         \n",
      "Covariance Type:                  opg                                         \n",
      "==============================================================================\n",
      "                 coef    std err          z      P>|z|      [0.025      0.975]\n",
      "------------------------------------------------------------------------------\n",
      "const          0.0189      0.014      1.324      0.186      -0.009       0.047\n",
      "ar.L1         -0.0245      0.009     -2.640      0.008      -0.043      -0.006\n",
      "ar.L2         -0.0523      0.008     -6.505      0.000      -0.068      -0.037\n",
      "ar.L3         -0.0870      0.008    -10.853      0.000      -0.103      -0.071\n",
      "ar.L4          0.0424      0.008      5.133      0.000       0.026       0.059\n",
      "ar.L5         -0.0607      0.008     -7.568      0.000      -0.076      -0.045\n",
      "ar.L6         -0.0466      0.009     -5.216      0.000      -0.064      -0.029\n",
      "sigma2         1.3557      0.015     92.513      0.000       1.327       1.384\n",
      "===================================================================================\n",
      "Ljung-Box (L1) (Q):                   0.00   Jarque-Bera (JB):              6487.37\n",
      "Prob(Q):                              0.97   Prob(JB):                         0.00\n",
      "Heteroskedasticity (H):               2.00   Skew:                            -0.20\n",
      "Prob(H) (two-sided):                  0.00   Kurtosis:                         8.56\n",
      "===================================================================================\n",
      "\n",
      "Warnings:\n",
      "[1] Covariance matrix calculated using the outer product of gradients (complex-step).\n",
      "\n",
      "\n",
      "AR_7:\n",
      "                               SARIMAX Results                                \n",
      "==============================================================================\n",
      "Dep. Variable:                returns   No. Observations:                 5020\n",
      "Model:                 ARIMA(7, 0, 0)   Log Likelihood               -7886.647\n",
      "Date:                Sun, 22 Jun 2025   AIC                          15791.294\n",
      "Time:                        11:41:24   BIC                          15849.985\n",
      "Sample:                    01-10-1994   HQIC                         15811.860\n",
      "                         - 04-05-2013                                         \n",
      "Covariance Type:                  opg                                         \n",
      "==============================================================================\n",
      "                 coef    std err          z      P>|z|      [0.025      0.975]\n",
      "------------------------------------------------------------------------------\n",
      "const          0.0189      0.015      1.304      0.192      -0.010       0.047\n",
      "ar.L1         -0.0240      0.009     -2.579      0.010      -0.042      -0.006\n",
      "ar.L2         -0.0517      0.008     -6.375      0.000      -0.068      -0.036\n",
      "ar.L3         -0.0874      0.008    -10.725      0.000      -0.103      -0.071\n",
      "ar.L4          0.0433      0.008      5.183      0.000       0.027       0.060\n",
      "ar.L5         -0.0601      0.008     -7.463      0.000      -0.076      -0.044\n",
      "ar.L6         -0.0463      0.009     -5.173      0.000      -0.064      -0.029\n",
      "ar.L7          0.0109      0.009      1.205      0.228      -0.007       0.029\n",
      "sigma2         1.3555      0.015     91.777      0.000       1.327       1.384\n",
      "===================================================================================\n",
      "Ljung-Box (L1) (Q):                   0.00   Jarque-Bera (JB):              6448.20\n",
      "Prob(Q):                              0.99   Prob(JB):                         0.00\n",
      "Heteroskedasticity (H):               2.00   Skew:                            -0.19\n",
      "Prob(H) (two-sided):                  0.00   Kurtosis:                         8.54\n",
      "===================================================================================\n",
      "\n",
      "Warnings:\n",
      "[1] Covariance matrix calculated using the outer product of gradients (complex-step).\n",
      "\n",
      "\n",
      "AR_8:\n",
      "                               SARIMAX Results                                \n",
      "==============================================================================\n",
      "Dep. Variable:                returns   No. Observations:                 5020\n",
      "Model:                 ARIMA(8, 0, 0)   Log Likelihood               -7885.599\n",
      "Date:                Sun, 22 Jun 2025   AIC                          15791.199\n",
      "Time:                        11:41:24   BIC                          15856.410\n",
      "Sample:                    01-10-1994   HQIC                         15814.050\n",
      "                         - 04-05-2013                                         \n",
      "Covariance Type:                  opg                                         \n",
      "==============================================================================\n",
      "                 coef    std err          z      P>|z|      [0.025      0.975]\n",
      "------------------------------------------------------------------------------\n",
      "const          0.0189      0.015      1.267      0.205      -0.010       0.048\n",
      "ar.L1         -0.0242      0.009     -2.584      0.010      -0.043      -0.006\n",
      "ar.L2         -0.0507      0.008     -6.250      0.000      -0.067      -0.035\n",
      "ar.L3         -0.0862      0.008    -10.459      0.000      -0.102      -0.070\n",
      "ar.L4          0.0424      0.008      5.061      0.000       0.026       0.059\n",
      "ar.L5         -0.0583      0.008     -7.100      0.000      -0.074      -0.042\n",
      "ar.L6         -0.0452      0.009     -5.042      0.000      -0.063      -0.028\n",
      "ar.L7          0.0114      0.009      1.256      0.209      -0.006       0.029\n",
      "ar.L8          0.0204      0.009      2.153      0.031       0.002       0.039\n",
      "sigma2         1.3550      0.015     91.779      0.000       1.326       1.384\n",
      "===================================================================================\n",
      "Ljung-Box (L1) (Q):                   0.00   Jarque-Bera (JB):              6437.24\n",
      "Prob(Q):                              1.00   Prob(JB):                         0.00\n",
      "Heteroskedasticity (H):               2.00   Skew:                            -0.18\n",
      "Prob(H) (two-sided):                  0.00   Kurtosis:                         8.54\n",
      "===================================================================================\n",
      "\n",
      "Warnings:\n",
      "[1] Covariance matrix calculated using the outer product of gradients (complex-step).\n",
      "\n",
      "\n",
      "AR_9:\n",
      "                               SARIMAX Results                                \n",
      "==============================================================================\n",
      "Dep. Variable:                returns   No. Observations:                 5020\n",
      "Model:                 ARIMA(9, 0, 0)   Log Likelihood               -7885.589\n",
      "Date:                Sun, 22 Jun 2025   AIC                          15793.178\n",
      "Time:                        11:41:24   BIC                          15864.911\n",
      "Sample:                    01-10-1994   HQIC                         15818.314\n",
      "                         - 04-05-2013                                         \n",
      "Covariance Type:                  opg                                         \n",
      "==============================================================================\n",
      "                 coef    std err          z      P>|z|      [0.025      0.975]\n",
      "------------------------------------------------------------------------------\n",
      "const          0.0189      0.015      1.260      0.208      -0.010       0.048\n",
      "ar.L1         -0.0242      0.009     -2.579      0.010      -0.043      -0.006\n",
      "ar.L2         -0.0507      0.008     -6.215      0.000      -0.067      -0.035\n",
      "ar.L3         -0.0863      0.008    -10.464      0.000      -0.102      -0.070\n",
      "ar.L4          0.0423      0.008      5.040      0.000       0.026       0.059\n",
      "ar.L5         -0.0582      0.008     -6.979      0.000      -0.075      -0.042\n",
      "ar.L6         -0.0454      0.009     -5.008      0.000      -0.063      -0.028\n",
      "ar.L7          0.0113      0.009      1.225      0.221      -0.007       0.029\n",
      "ar.L8          0.0204      0.009      2.147      0.032       0.002       0.039\n",
      "ar.L9         -0.0020      0.009     -0.231      0.817      -0.019       0.015\n",
      "sigma2         1.3550      0.015     90.838      0.000       1.326       1.384\n",
      "===================================================================================\n",
      "Ljung-Box (L1) (Q):                   0.00   Jarque-Bera (JB):              6448.64\n",
      "Prob(Q):                              1.00   Prob(JB):                         0.00\n",
      "Heteroskedasticity (H):               2.00   Skew:                            -0.18\n",
      "Prob(H) (two-sided):                  0.00   Kurtosis:                         8.54\n",
      "===================================================================================\n",
      "\n",
      "Warnings:\n",
      "[1] Covariance matrix calculated using the outer product of gradients (complex-step).\n",
      "\n",
      "\n"
     ]
    }
   ],
   "source": [
    "model_generator_returns = ModelGenerator(data=df[\"returns\"])\n",
    "max_lags = 9\n",
    "param_grid = [{\"order\": (p, 0, 0)} for p in range(1, max_lags + 1)]\n",
    "model_generator_returns.generate_models(\n",
    "    model_function=ARIMA, model_name_prefix=\"AR\", param_grid=param_grid\n",
    ")\n",
    "\n",
    "model_generator_returns.summarise_results()"
   ]
  },
  {
   "cell_type": "markdown",
   "metadata": {},
   "source": [
    "#### Create a dataframe to tabulate measures of interest"
   ]
  },
  {
   "cell_type": "code",
   "execution_count": 12,
   "metadata": {},
   "outputs": [
    {
     "data": {
      "application/vnd.microsoft.datawrangler.viewer.v0+json": {
       "columns": [
        {
         "name": "model",
         "rawType": "object",
         "type": "string"
        },
        {
         "name": "ar",
         "rawType": "int64",
         "type": "integer"
        },
        {
         "name": "llf",
         "rawType": "float64",
         "type": "float"
        },
        {
         "name": "aic",
         "rawType": "float64",
         "type": "float"
        },
        {
         "name": "bic",
         "rawType": "float64",
         "type": "float"
        },
        {
         "name": "hqic",
         "rawType": "float64",
         "type": "float"
        },
        {
         "name": "final_lag",
         "rawType": "object",
         "type": "string"
        },
        {
         "name": "final_lag_pval",
         "rawType": "float64",
         "type": "float"
        },
        {
         "name": "llr_test_models",
         "rawType": "object",
         "type": "unknown"
        },
        {
         "name": "llr_test_pval",
         "rawType": "float64",
         "type": "float"
        }
       ],
       "ref": "7d353e06-e011-4e01-9b3c-c926868cbaf1",
       "rows": [
        [
         "AR_1",
         "1",
         "-7929.748722344916",
         "15865.497444689832",
         "15885.061000327889",
         "15872.352777333652",
         "ar.L1",
         "0.007",
         null,
         null
        ],
        [
         "AR_2",
         "2",
         "-7923.455711280213",
         "15854.911422560426",
         "15880.99616341117",
         "15864.05186608552",
         "ar.L2",
         "0.0",
         "AR_2 vs AR_1",
         "0.00038864243005002003"
        ],
        [
         "AR_3",
         "3",
         "-7906.738405610257",
         "15823.476811220515",
         "15856.082737283943",
         "15834.90236562688",
         "ar.L3",
         "0.0",
         "AR_3 vs AR_2",
         "7.37006211675095e-09"
        ],
        [
         "AR_4",
         "4",
         "-7901.330337989088",
         "15814.660675978175",
         "15853.78778725429",
         "15828.371341265814",
         "ar.L4",
         "0.0",
         "AR_4 vs AR_3",
         "0.0010061930771581818"
        ],
        [
         "AR_5",
         "5",
         "-7892.389707485311",
         "15798.779414970622",
         "15844.427711459422",
         "15814.775191139533",
         "ar.L5",
         "0.0",
         "AR_5 vs AR_4",
         "2.3512490607151768e-05"
        ],
        [
         "AR_6",
         "6",
         "-7886.9448007994015",
         "15789.889601598803",
         "15842.05908330029",
         "15808.170488648988",
         "ar.L6",
         "0.0",
         "AR_6 vs AR_5",
         "0.0009669457078839986"
        ],
        [
         "AR_7",
         "7",
         "-7886.647040552387",
         "15791.294081104774",
         "15849.984748018946",
         "15811.860079036232",
         "ar.L7",
         "0.22804",
         "AR_7 vs AR_6",
         "0.4402922827159266"
        ],
        [
         "AR_8",
         "8",
         "-7885.599313260374",
         "15791.198626520749",
         "15856.410478647607",
         "15814.04973533348",
         "ar.L8",
         "0.03133",
         "AR_8 vs AR_7",
         "0.14773776398309102"
        ],
        [
         "AR_9",
         "9",
         "-7885.588878310467",
         "15793.177756620935",
         "15864.910793960478",
         "15818.31397631494",
         "ar.L9",
         "0.81716",
         "AR_9 vs AR_8",
         "0.8851339385241326"
        ]
       ],
       "shape": {
        "columns": 9,
        "rows": 9
       }
      },
      "text/html": [
       "<div>\n",
       "<style scoped>\n",
       "    .dataframe tbody tr th:only-of-type {\n",
       "        vertical-align: middle;\n",
       "    }\n",
       "\n",
       "    .dataframe tbody tr th {\n",
       "        vertical-align: top;\n",
       "    }\n",
       "\n",
       "    .dataframe thead th {\n",
       "        text-align: right;\n",
       "    }\n",
       "</style>\n",
       "<table border=\"1\" class=\"dataframe\">\n",
       "  <thead>\n",
       "    <tr style=\"text-align: right;\">\n",
       "      <th></th>\n",
       "      <th>ar</th>\n",
       "      <th>llf</th>\n",
       "      <th>aic</th>\n",
       "      <th>bic</th>\n",
       "      <th>hqic</th>\n",
       "      <th>final_lag</th>\n",
       "      <th>final_lag_pval</th>\n",
       "      <th>llr_test_models</th>\n",
       "      <th>llr_test_pval</th>\n",
       "    </tr>\n",
       "    <tr>\n",
       "      <th>model</th>\n",
       "      <th></th>\n",
       "      <th></th>\n",
       "      <th></th>\n",
       "      <th></th>\n",
       "      <th></th>\n",
       "      <th></th>\n",
       "      <th></th>\n",
       "      <th></th>\n",
       "      <th></th>\n",
       "    </tr>\n",
       "  </thead>\n",
       "  <tbody>\n",
       "    <tr>\n",
       "      <th>AR_1</th>\n",
       "      <td>1</td>\n",
       "      <td>-7929.748722</td>\n",
       "      <td>15865.497445</td>\n",
       "      <td>15885.061000</td>\n",
       "      <td>15872.352777</td>\n",
       "      <td>ar.L1</td>\n",
       "      <td>0.00700</td>\n",
       "      <td>NaN</td>\n",
       "      <td>NaN</td>\n",
       "    </tr>\n",
       "    <tr>\n",
       "      <th>AR_2</th>\n",
       "      <td>2</td>\n",
       "      <td>-7923.455711</td>\n",
       "      <td>15854.911423</td>\n",
       "      <td>15880.996163</td>\n",
       "      <td>15864.051866</td>\n",
       "      <td>ar.L2</td>\n",
       "      <td>0.00000</td>\n",
       "      <td>AR_2 vs AR_1</td>\n",
       "      <td>3.886424e-04</td>\n",
       "    </tr>\n",
       "    <tr>\n",
       "      <th>AR_3</th>\n",
       "      <td>3</td>\n",
       "      <td>-7906.738406</td>\n",
       "      <td>15823.476811</td>\n",
       "      <td>15856.082737</td>\n",
       "      <td>15834.902366</td>\n",
       "      <td>ar.L3</td>\n",
       "      <td>0.00000</td>\n",
       "      <td>AR_3 vs AR_2</td>\n",
       "      <td>7.370062e-09</td>\n",
       "    </tr>\n",
       "    <tr>\n",
       "      <th>AR_4</th>\n",
       "      <td>4</td>\n",
       "      <td>-7901.330338</td>\n",
       "      <td>15814.660676</td>\n",
       "      <td>15853.787787</td>\n",
       "      <td>15828.371341</td>\n",
       "      <td>ar.L4</td>\n",
       "      <td>0.00000</td>\n",
       "      <td>AR_4 vs AR_3</td>\n",
       "      <td>1.006193e-03</td>\n",
       "    </tr>\n",
       "    <tr>\n",
       "      <th>AR_5</th>\n",
       "      <td>5</td>\n",
       "      <td>-7892.389707</td>\n",
       "      <td>15798.779415</td>\n",
       "      <td>15844.427711</td>\n",
       "      <td>15814.775191</td>\n",
       "      <td>ar.L5</td>\n",
       "      <td>0.00000</td>\n",
       "      <td>AR_5 vs AR_4</td>\n",
       "      <td>2.351249e-05</td>\n",
       "    </tr>\n",
       "    <tr>\n",
       "      <th>AR_6</th>\n",
       "      <td>6</td>\n",
       "      <td>-7886.944801</td>\n",
       "      <td>15789.889602</td>\n",
       "      <td>15842.059083</td>\n",
       "      <td>15808.170489</td>\n",
       "      <td>ar.L6</td>\n",
       "      <td>0.00000</td>\n",
       "      <td>AR_6 vs AR_5</td>\n",
       "      <td>9.669457e-04</td>\n",
       "    </tr>\n",
       "    <tr>\n",
       "      <th>AR_7</th>\n",
       "      <td>7</td>\n",
       "      <td>-7886.647041</td>\n",
       "      <td>15791.294081</td>\n",
       "      <td>15849.984748</td>\n",
       "      <td>15811.860079</td>\n",
       "      <td>ar.L7</td>\n",
       "      <td>0.22804</td>\n",
       "      <td>AR_7 vs AR_6</td>\n",
       "      <td>4.402923e-01</td>\n",
       "    </tr>\n",
       "    <tr>\n",
       "      <th>AR_8</th>\n",
       "      <td>8</td>\n",
       "      <td>-7885.599313</td>\n",
       "      <td>15791.198627</td>\n",
       "      <td>15856.410479</td>\n",
       "      <td>15814.049735</td>\n",
       "      <td>ar.L8</td>\n",
       "      <td>0.03133</td>\n",
       "      <td>AR_8 vs AR_7</td>\n",
       "      <td>1.477378e-01</td>\n",
       "    </tr>\n",
       "    <tr>\n",
       "      <th>AR_9</th>\n",
       "      <td>9</td>\n",
       "      <td>-7885.588878</td>\n",
       "      <td>15793.177757</td>\n",
       "      <td>15864.910794</td>\n",
       "      <td>15818.313976</td>\n",
       "      <td>ar.L9</td>\n",
       "      <td>0.81716</td>\n",
       "      <td>AR_9 vs AR_8</td>\n",
       "      <td>8.851339e-01</td>\n",
       "    </tr>\n",
       "  </tbody>\n",
       "</table>\n",
       "</div>"
      ],
      "text/plain": [
       "       ar          llf           aic           bic          hqic final_lag  \\\n",
       "model                                                                        \n",
       "AR_1    1 -7929.748722  15865.497445  15885.061000  15872.352777     ar.L1   \n",
       "AR_2    2 -7923.455711  15854.911423  15880.996163  15864.051866     ar.L2   \n",
       "AR_3    3 -7906.738406  15823.476811  15856.082737  15834.902366     ar.L3   \n",
       "AR_4    4 -7901.330338  15814.660676  15853.787787  15828.371341     ar.L4   \n",
       "AR_5    5 -7892.389707  15798.779415  15844.427711  15814.775191     ar.L5   \n",
       "AR_6    6 -7886.944801  15789.889602  15842.059083  15808.170489     ar.L6   \n",
       "AR_7    7 -7886.647041  15791.294081  15849.984748  15811.860079     ar.L7   \n",
       "AR_8    8 -7885.599313  15791.198627  15856.410479  15814.049735     ar.L8   \n",
       "AR_9    9 -7885.588878  15793.177757  15864.910794  15818.313976     ar.L9   \n",
       "\n",
       "       final_lag_pval llr_test_models  llr_test_pval  \n",
       "model                                                 \n",
       "AR_1          0.00700             NaN            NaN  \n",
       "AR_2          0.00000    AR_2 vs AR_1   3.886424e-04  \n",
       "AR_3          0.00000    AR_3 vs AR_2   7.370062e-09  \n",
       "AR_4          0.00000    AR_4 vs AR_3   1.006193e-03  \n",
       "AR_5          0.00000    AR_5 vs AR_4   2.351249e-05  \n",
       "AR_6          0.00000    AR_6 vs AR_5   9.669457e-04  \n",
       "AR_7          0.22804    AR_7 vs AR_6   4.402923e-01  \n",
       "AR_8          0.03133    AR_8 vs AR_7   1.477378e-01  \n",
       "AR_9          0.81716    AR_9 vs AR_8   8.851339e-01  "
      ]
     },
     "execution_count": 12,
     "metadata": {},
     "output_type": "execute_result"
    }
   ],
   "source": [
    "metrics_returns = MetricsGenerator(models=model_generator_returns.models)\n",
    "metrics_returns.generate_metrics_table()\n",
    "metrics_returns.evaluation"
   ]
  },
  {
   "cell_type": "markdown",
   "metadata": {},
   "source": [
    "- The llf gradually becomes less negative, with slowing down AR_6 onwards.\n",
    "- The AIC and HQIC decrease till AR_6 and then start to increase.\n",
    "- The BIC reduces till AR_5 and then starts increasing sharply."
   ]
  },
  {
   "cell_type": "code",
   "execution_count": 13,
   "metadata": {},
   "outputs": [
    {
     "data": {
      "application/vnd.microsoft.datawrangler.viewer.v0+json": {
       "columns": [
        {
         "name": "model",
         "rawType": "object",
         "type": "string"
        },
        {
         "name": "ar",
         "rawType": "int64",
         "type": "integer"
        },
        {
         "name": "llf",
         "rawType": "float64",
         "type": "float"
        },
        {
         "name": "aic",
         "rawType": "float64",
         "type": "float"
        },
        {
         "name": "bic",
         "rawType": "float64",
         "type": "float"
        },
        {
         "name": "hqic",
         "rawType": "float64",
         "type": "float"
        },
        {
         "name": "final_lag",
         "rawType": "object",
         "type": "string"
        },
        {
         "name": "final_lag_pval",
         "rawType": "float64",
         "type": "float"
        },
        {
         "name": "llr_test_models",
         "rawType": "object",
         "type": "string"
        },
        {
         "name": "llr_test_pval",
         "rawType": "float64",
         "type": "float"
        }
       ],
       "ref": "1ae99a3f-5e28-48d3-8f78-1cf02da82b4a",
       "rows": [
        [
         "AR_7",
         "7",
         "-7886.647040552387",
         "15791.294081104774",
         "15849.984748018946",
         "15811.860079036232",
         "ar.L7",
         "0.22804",
         "AR_7 vs AR_6",
         "0.4402922827159266"
        ],
        [
         "AR_9",
         "9",
         "-7885.588878310467",
         "15793.177756620935",
         "15864.910793960478",
         "15818.31397631494",
         "ar.L9",
         "0.81716",
         "AR_9 vs AR_8",
         "0.8851339385241326"
        ]
       ],
       "shape": {
        "columns": 9,
        "rows": 2
       }
      },
      "text/html": [
       "<div>\n",
       "<style scoped>\n",
       "    .dataframe tbody tr th:only-of-type {\n",
       "        vertical-align: middle;\n",
       "    }\n",
       "\n",
       "    .dataframe tbody tr th {\n",
       "        vertical-align: top;\n",
       "    }\n",
       "\n",
       "    .dataframe thead th {\n",
       "        text-align: right;\n",
       "    }\n",
       "</style>\n",
       "<table border=\"1\" class=\"dataframe\">\n",
       "  <thead>\n",
       "    <tr style=\"text-align: right;\">\n",
       "      <th></th>\n",
       "      <th>ar</th>\n",
       "      <th>llf</th>\n",
       "      <th>aic</th>\n",
       "      <th>bic</th>\n",
       "      <th>hqic</th>\n",
       "      <th>final_lag</th>\n",
       "      <th>final_lag_pval</th>\n",
       "      <th>llr_test_models</th>\n",
       "      <th>llr_test_pval</th>\n",
       "    </tr>\n",
       "    <tr>\n",
       "      <th>model</th>\n",
       "      <th></th>\n",
       "      <th></th>\n",
       "      <th></th>\n",
       "      <th></th>\n",
       "      <th></th>\n",
       "      <th></th>\n",
       "      <th></th>\n",
       "      <th></th>\n",
       "      <th></th>\n",
       "    </tr>\n",
       "  </thead>\n",
       "  <tbody>\n",
       "    <tr>\n",
       "      <th>AR_7</th>\n",
       "      <td>7</td>\n",
       "      <td>-7886.647041</td>\n",
       "      <td>15791.294081</td>\n",
       "      <td>15849.984748</td>\n",
       "      <td>15811.860079</td>\n",
       "      <td>ar.L7</td>\n",
       "      <td>0.22804</td>\n",
       "      <td>AR_7 vs AR_6</td>\n",
       "      <td>0.440292</td>\n",
       "    </tr>\n",
       "    <tr>\n",
       "      <th>AR_9</th>\n",
       "      <td>9</td>\n",
       "      <td>-7885.588878</td>\n",
       "      <td>15793.177757</td>\n",
       "      <td>15864.910794</td>\n",
       "      <td>15818.313976</td>\n",
       "      <td>ar.L9</td>\n",
       "      <td>0.81716</td>\n",
       "      <td>AR_9 vs AR_8</td>\n",
       "      <td>0.885134</td>\n",
       "    </tr>\n",
       "  </tbody>\n",
       "</table>\n",
       "</div>"
      ],
      "text/plain": [
       "       ar          llf           aic           bic          hqic final_lag  \\\n",
       "model                                                                        \n",
       "AR_7    7 -7886.647041  15791.294081  15849.984748  15811.860079     ar.L7   \n",
       "AR_9    9 -7885.588878  15793.177757  15864.910794  15818.313976     ar.L9   \n",
       "\n",
       "       final_lag_pval llr_test_models  llr_test_pval  \n",
       "model                                                 \n",
       "AR_7          0.22804    AR_7 vs AR_6       0.440292  \n",
       "AR_9          0.81716    AR_9 vs AR_8       0.885134  "
      ]
     },
     "execution_count": 13,
     "metadata": {},
     "output_type": "execute_result"
    }
   ],
   "source": [
    "# Find models where both the final lag and the LLR Test p-values fail to reach significance.\n",
    "metrics_returns.evaluation.query(\"final_lag_pval >= 0.05 and llr_test_pval >= 0.05\")"
   ]
  },
  {
   "cell_type": "markdown",
   "metadata": {},
   "source": [
    "**Plot the test metrics.**"
   ]
  },
  {
   "cell_type": "code",
   "execution_count": 14,
   "metadata": {},
   "outputs": [
    {
     "data": {
      "image/png": "[encoded data removed]",
      "text/plain": [
       "<Figure size 1000x800 with 2 Axes>"
      ]
     },
     "metadata": {},
     "output_type": "display_data"
    }
   ],
   "source": [
    "# Create 2 subplots\n",
    "fig, axes = plt.subplots(nrows=2, ncols=1, figsize=(10, 8))\n",
    "\n",
    "# Plot final lag p-value on the first subplot\n",
    "metrics_returns.evaluation[[\"final_lag_pval\", \"llr_test_pval\"]].plot(ax=axes[0])\n",
    "axes[0].set_title(\"P-Values\")\n",
    "axes[1].set_xlabel(\"Model\")\n",
    "axes[0].set_ylabel(\"P-Value\")\n",
    "\n",
    "# Plot AIC, BIC, HQIC on the second subplot\n",
    "metrics_returns.evaluation[[\"aic\", \"bic\", \"hqic\"]].plot(ax=axes[1])\n",
    "axes[1].set_title(\"Model Evaluation\")\n",
    "axes[1].set_xlabel(\"Model\")\n",
    "axes[1].set_ylabel(\"Metric Value\")\n",
    "axes[1].legend(loc=\"best\")\n",
    "\n",
    "plt.tight_layout()\n",
    "plt.show()"
   ]
  },
  {
   "cell_type": "markdown",
   "metadata": {},
   "source": [
    "- The first model which satisfies the p-values of both the final lag and the LLR Test being non-significant is AR(6).\n",
    "- Model AR(6) is selected and a LLR Test is performed against AR(1) to confirm significance."
   ]
  },
  {
   "cell_type": "code",
   "execution_count": 15,
   "metadata": {},
   "outputs": [
    {
     "data": {
      "text/plain": [
       "np.float64(5.613201135056091e-17)"
      ]
     },
     "execution_count": 15,
     "metadata": {},
     "output_type": "execute_result"
    }
   ],
   "source": [
    "deg_freedom_returns = (\n",
    "    metrics_returns.evaluation.loc[\"AR_6\", \"ar\"]\n",
    "    - metrics_returns.evaluation.loc[\"AR_1\", \"ar\"]\n",
    ")\n",
    "\n",
    "metrics_returns.llr_test(\n",
    "    metrics_returns.evaluation.loc[\"AR_1\", \"llf\"],\n",
    "    metrics_returns.evaluation.loc[\"AR_6\", \"llf\"],\n",
    "    df=deg_freedom_returns,\n",
    ")"
   ]
  },
  {
   "cell_type": "markdown",
   "metadata": {},
   "source": [
    "## Normalizing Prices"
   ]
  },
  {
   "cell_type": "code",
   "execution_count": 16,
   "metadata": {},
   "outputs": [],
   "source": [
    "df[\"market_val_norm\"] = df[\"market_value\"].div(df[\"market_value\"].iloc[0]).mul(100)"
   ]
  },
  {
   "cell_type": "code",
   "execution_count": 17,
   "metadata": {},
   "outputs": [
    {
     "data": {
      "text/plain": [
       "(np.float64(-1.8928710132672346),\n",
       " np.float64(0.3354222074330073),\n",
       " 6,\n",
       " 5013,\n",
       " {'1%': np.float64(-3.431655136974821),\n",
       "  '5%': np.float64(-2.8621167297421373),\n",
       "  '10%': np.float64(-2.567076993884522)},\n",
       " np.float64(19553.90073102193))"
      ]
     },
     "execution_count": 17,
     "metadata": {},
     "output_type": "execute_result"
    }
   ],
   "source": [
    "sts.adfuller(df[\"market_val_norm\"])"
   ]
  },
  {
   "cell_type": "markdown",
   "metadata": {},
   "source": [
    "- The ADF t-statistic is less negative than the 5% critical value and the computed p-value is greater than 0.05, which suggests non-stationarity. Therefore, normalisation does not make prices suitable for an AR model."
   ]
  },
  {
   "cell_type": "markdown",
   "metadata": {},
   "source": [
    "## Normalized Returns"
   ]
  },
  {
   "cell_type": "code",
   "execution_count": 18,
   "metadata": {},
   "outputs": [],
   "source": [
    "df[\"returns_norm\"] = df[\"returns\"].div(df[\"returns\"].iloc[0]).mul(100)"
   ]
  },
  {
   "cell_type": "code",
   "execution_count": 19,
   "metadata": {},
   "outputs": [
    {
     "data": {
      "text/plain": [
       "(np.float64(-12.770265719497205),\n",
       " np.float64(7.798058336039504e-24),\n",
       " 32,\n",
       " 4987,\n",
       " {'1%': np.float64(-3.431661944885779),\n",
       "  '5%': np.float64(-2.8621197374408225),\n",
       "  '10%': np.float64(-2.5670785949998973)},\n",
       " np.float64(80114.49116124898))"
      ]
     },
     "execution_count": 19,
     "metadata": {},
     "output_type": "execute_result"
    }
   ],
   "source": [
    "sts.adfuller(df[\"returns_norm\"])"
   ]
  },
  {
   "cell_type": "markdown",
   "metadata": {},
   "source": [
    "- The ADF t-statistic is much more negative than the 5% critical value. The computed p-value is significant. This suggests stationarity. Normalised returns therefore remain suitable for an AR model."
   ]
  },
  {
   "cell_type": "markdown",
   "metadata": {},
   "source": [
    "## AR(1) for Returns"
   ]
  },
  {
   "cell_type": "code",
   "execution_count": 20,
   "metadata": {},
   "outputs": [
    {
     "data": {
      "text/html": [
       "<table class=\"simpletable\">\n",
       "<caption>SARIMAX Results</caption>\n",
       "<tr>\n",
       "  <th>Dep. Variable:</th>     <td>returns_norm</td>   <th>  No. Observations:  </th>    <td>5020</td>   \n",
       "</tr>\n",
       "<tr>\n",
       "  <th>Model:</th>            <td>ARIMA(1, 0, 0)</td>  <th>  Log Likelihood     </th> <td>-40351.743</td>\n",
       "</tr>\n",
       "<tr>\n",
       "  <th>Date:</th>            <td>Sun, 22 Jun 2025</td> <th>  AIC                </th>  <td>80709.487</td>\n",
       "</tr>\n",
       "<tr>\n",
       "  <th>Time:</th>                <td>11:41:28</td>     <th>  BIC                </th>  <td>80729.050</td>\n",
       "</tr>\n",
       "<tr>\n",
       "  <th>Sample:</th>             <td>01-10-1994</td>    <th>  HQIC               </th>  <td>80716.342</td>\n",
       "</tr>\n",
       "<tr>\n",
       "  <th></th>                   <td>- 04-05-2013</td>   <th>                     </th>      <td> </td>    \n",
       "</tr>\n",
       "<tr>\n",
       "  <th>Covariance Type:</th>        <td>opg</td>       <th>                     </th>      <td> </td>    \n",
       "</tr>\n",
       "</table>\n",
       "<table class=\"simpletable\">\n",
       "<tr>\n",
       "     <td></td>       <th>coef</th>     <th>std err</th>      <th>z</th>      <th>P>|z|</th>  <th>[0.025</th>    <th>0.975]</th>  \n",
       "</tr>\n",
       "<tr>\n",
       "  <th>const</th>  <td>  -11.9731</td> <td>   10.476</td> <td>   -1.143</td> <td> 0.253</td> <td>  -32.506</td> <td>    8.560</td>\n",
       "</tr>\n",
       "<tr>\n",
       "  <th>ar.L1</th>  <td>   -0.0230</td> <td>    0.009</td> <td>   -2.697</td> <td> 0.007</td> <td>   -0.040</td> <td>   -0.006</td>\n",
       "</tr>\n",
       "<tr>\n",
       "  <th>sigma2</th> <td> 5.617e+05</td> <td> 5612.960</td> <td>  100.071</td> <td> 0.000</td> <td> 5.51e+05</td> <td> 5.73e+05</td>\n",
       "</tr>\n",
       "</table>\n",
       "<table class=\"simpletable\">\n",
       "<tr>\n",
       "  <th>Ljung-Box (L1) (Q):</th>     <td>0.01</td> <th>  Jarque-Bera (JB):  </th> <td>7872.68</td>\n",
       "</tr>\n",
       "<tr>\n",
       "  <th>Prob(Q):</th>                <td>0.93</td> <th>  Prob(JB):          </th>  <td>0.00</td>  \n",
       "</tr>\n",
       "<tr>\n",
       "  <th>Heteroskedasticity (H):</th> <td>2.04</td> <th>  Skew:              </th>  <td>0.03</td>  \n",
       "</tr>\n",
       "<tr>\n",
       "  <th>Prob(H) (two-sided):</th>    <td>0.00</td> <th>  Kurtosis:          </th>  <td>9.13</td>  \n",
       "</tr>\n",
       "</table><br/><br/>Warnings:<br/>[1] Covariance matrix calculated using the outer product of gradients (complex-step)."
      ],
      "text/latex": [
       "\\begin{center}\n",
       "\\begin{tabular}{lclc}\n",
       "\\toprule\n",
       "\\textbf{Dep. Variable:}          &  returns\\_norm   & \\textbf{  No. Observations:  } &    5020     \\\\\n",
       "\\textbf{Model:}                  &  ARIMA(1, 0, 0)  & \\textbf{  Log Likelihood     } & -40351.743  \\\\\n",
       "\\textbf{Date:}                   & Sun, 22 Jun 2025 & \\textbf{  AIC                } & 80709.487   \\\\\n",
       "\\textbf{Time:}                   &     11:41:28     & \\textbf{  BIC                } & 80729.050   \\\\\n",
       "\\textbf{Sample:}                 &    01-10-1994    & \\textbf{  HQIC               } & 80716.342   \\\\\n",
       "\\textbf{}                        &   - 04-05-2013   & \\textbf{                     } &             \\\\\n",
       "\\textbf{Covariance Type:}        &       opg        & \\textbf{                     } &             \\\\\n",
       "\\bottomrule\n",
       "\\end{tabular}\n",
       "\\begin{tabular}{lcccccc}\n",
       "                & \\textbf{coef} & \\textbf{std err} & \\textbf{z} & \\textbf{P$> |$z$|$} & \\textbf{[0.025} & \\textbf{0.975]}  \\\\\n",
       "\\midrule\n",
       "\\textbf{const}  &     -11.9731  &       10.476     &    -1.143  &         0.253        &      -32.506    &        8.560     \\\\\n",
       "\\textbf{ar.L1}  &      -0.0230  &        0.009     &    -2.697  &         0.007        &       -0.040    &       -0.006     \\\\\n",
       "\\textbf{sigma2} &    5.617e+05  &     5612.960     &   100.071  &         0.000        &     5.51e+05    &     5.73e+05     \\\\\n",
       "\\bottomrule\n",
       "\\end{tabular}\n",
       "\\begin{tabular}{lclc}\n",
       "\\textbf{Ljung-Box (L1) (Q):}     & 0.01 & \\textbf{  Jarque-Bera (JB):  } & 7872.68  \\\\\n",
       "\\textbf{Prob(Q):}                & 0.93 & \\textbf{  Prob(JB):          } &   0.00   \\\\\n",
       "\\textbf{Heteroskedasticity (H):} & 2.04 & \\textbf{  Skew:              } &   0.03   \\\\\n",
       "\\textbf{Prob(H) (two-sided):}    & 0.00 & \\textbf{  Kurtosis:          } &   9.13   \\\\\n",
       "\\bottomrule\n",
       "\\end{tabular}\n",
       "%\\caption{SARIMAX Results}\n",
       "\\end{center}\n",
       "\n",
       "Warnings: \\newline\n",
       " [1] Covariance matrix calculated using the outer product of gradients (complex-step)."
      ],
      "text/plain": [
       "<class 'statsmodels.iolib.summary.Summary'>\n",
       "\"\"\"\n",
       "                               SARIMAX Results                                \n",
       "==============================================================================\n",
       "Dep. Variable:           returns_norm   No. Observations:                 5020\n",
       "Model:                 ARIMA(1, 0, 0)   Log Likelihood              -40351.743\n",
       "Date:                Sun, 22 Jun 2025   AIC                          80709.487\n",
       "Time:                        11:41:28   BIC                          80729.050\n",
       "Sample:                    01-10-1994   HQIC                         80716.342\n",
       "                         - 04-05-2013                                         \n",
       "Covariance Type:                  opg                                         \n",
       "==============================================================================\n",
       "                 coef    std err          z      P>|z|      [0.025      0.975]\n",
       "------------------------------------------------------------------------------\n",
       "const        -11.9731     10.476     -1.143      0.253     -32.506       8.560\n",
       "ar.L1         -0.0230      0.009     -2.697      0.007      -0.040      -0.006\n",
       "sigma2      5.617e+05   5612.960    100.071      0.000    5.51e+05    5.73e+05\n",
       "===================================================================================\n",
       "Ljung-Box (L1) (Q):                   0.01   Jarque-Bera (JB):              7872.68\n",
       "Prob(Q):                              0.93   Prob(JB):                         0.00\n",
       "Heteroskedasticity (H):               2.04   Skew:                             0.03\n",
       "Prob(H) (two-sided):                  0.00   Kurtosis:                         9.13\n",
       "===================================================================================\n",
       "\n",
       "Warnings:\n",
       "[1] Covariance matrix calculated using the outer product of gradients (complex-step).\n",
       "\"\"\""
      ]
     },
     "execution_count": 20,
     "metadata": {},
     "output_type": "execute_result"
    }
   ],
   "source": [
    "model_returns_norm = ARIMA(df[\"returns_norm\"], order=(1, 0, 0))\n",
    "result_returns_norm = model_returns_norm.fit()\n",
    "result_returns_norm.summary()"
   ]
  },
  {
   "cell_type": "markdown",
   "metadata": {},
   "source": [
    "- The const values will be different for the returns and normalised returns, but the ar.L1 is the same."
   ]
  },
  {
   "cell_type": "markdown",
   "metadata": {},
   "source": [
    "## Higher Lag AR Models for Normalised Returns"
   ]
  },
  {
   "cell_type": "code",
   "execution_count": 21,
   "metadata": {},
   "outputs": [
    {
     "name": "stdout",
     "output_type": "stream",
     "text": [
      "AR_1:\n",
      "                               SARIMAX Results                                \n",
      "==============================================================================\n",
      "Dep. Variable:           returns_norm   No. Observations:                 5020\n",
      "Model:                 ARIMA(1, 0, 0)   Log Likelihood              -40351.743\n",
      "Date:                Sun, 22 Jun 2025   AIC                          80709.487\n",
      "Time:                        11:41:41   BIC                          80729.050\n",
      "Sample:                    01-10-1994   HQIC                         80716.342\n",
      "                         - 04-05-2013                                         \n",
      "Covariance Type:                  opg                                         \n",
      "==============================================================================\n",
      "                 coef    std err          z      P>|z|      [0.025      0.975]\n",
      "------------------------------------------------------------------------------\n",
      "const        -11.9731     10.476     -1.143      0.253     -32.506       8.560\n",
      "ar.L1         -0.0230      0.009     -2.697      0.007      -0.040      -0.006\n",
      "sigma2      5.617e+05   5612.960    100.071      0.000    5.51e+05    5.73e+05\n",
      "===================================================================================\n",
      "Ljung-Box (L1) (Q):                   0.01   Jarque-Bera (JB):              7872.68\n",
      "Prob(Q):                              0.93   Prob(JB):                         0.00\n",
      "Heteroskedasticity (H):               2.04   Skew:                             0.03\n",
      "Prob(H) (two-sided):                  0.00   Kurtosis:                         9.13\n",
      "===================================================================================\n",
      "\n",
      "Warnings:\n",
      "[1] Covariance matrix calculated using the outer product of gradients (complex-step).\n",
      "\n",
      "\n",
      "AR_2:\n",
      "                               SARIMAX Results                                \n",
      "==============================================================================\n",
      "Dep. Variable:           returns_norm   No. Observations:                 5020\n",
      "Model:                 ARIMA(2, 0, 0)   Log Likelihood              -40345.450\n",
      "Date:                Sun, 22 Jun 2025   AIC                          80698.901\n",
      "Time:                        11:41:41   BIC                          80724.986\n",
      "Sample:                    01-10-1994   HQIC                         80708.041\n",
      "                         - 04-05-2013                                         \n",
      "Covariance Type:                  opg                                         \n",
      "==============================================================================\n",
      "                 coef    std err          z      P>|z|      [0.025      0.975]\n",
      "------------------------------------------------------------------------------\n",
      "const        -11.9731     10.050     -1.191      0.234     -31.671       7.725\n",
      "ar.L1         -0.0242      0.009     -2.797      0.005      -0.041      -0.007\n",
      "ar.L2         -0.0500      0.008     -6.368      0.000      -0.065      -0.035\n",
      "sigma2      5.603e+05   5628.139     99.561      0.000    5.49e+05    5.71e+05\n",
      "===================================================================================\n",
      "Ljung-Box (L1) (Q):                   0.08   Jarque-Bera (JB):              7730.40\n",
      "Prob(Q):                              0.77   Prob(JB):                         0.00\n",
      "Heteroskedasticity (H):               2.03   Skew:                             0.06\n",
      "Prob(H) (two-sided):                  0.00   Kurtosis:                         9.08\n",
      "===================================================================================\n",
      "\n",
      "Warnings:\n",
      "[1] Covariance matrix calculated using the outer product of gradients (complex-step).\n",
      "\n",
      "\n",
      "AR_3:\n",
      "                               SARIMAX Results                                \n",
      "==============================================================================\n",
      "Dep. Variable:           returns_norm   No. Observations:                 5020\n",
      "Model:                 ARIMA(3, 0, 0)   Log Likelihood              -40328.733\n",
      "Date:                Sun, 22 Jun 2025   AIC                          80667.466\n",
      "Time:                        11:41:41   BIC                          80700.072\n",
      "Sample:                    01-10-1994   HQIC                         80678.892\n",
      "                         - 04-05-2013                                         \n",
      "Covariance Type:                  opg                                         \n",
      "==============================================================================\n",
      "                 coef    std err          z      P>|z|      [0.025      0.975]\n",
      "------------------------------------------------------------------------------\n",
      "const        -11.9731      9.474     -1.264      0.206     -30.543       6.597\n",
      "ar.L1         -0.0282      0.009     -3.193      0.001      -0.046      -0.011\n",
      "ar.L2         -0.0520      0.008     -6.678      0.000      -0.067      -0.037\n",
      "ar.L3         -0.0815      0.008    -10.188      0.000      -0.097      -0.066\n",
      "sigma2      5.566e+05   5890.565     94.491      0.000    5.45e+05    5.68e+05\n",
      "===================================================================================\n",
      "Ljung-Box (L1) (Q):                   0.07   Jarque-Bera (JB):              6859.56\n",
      "Prob(Q):                              0.79   Prob(JB):                         0.00\n",
      "Heteroskedasticity (H):               2.02   Skew:                             0.15\n",
      "Prob(H) (two-sided):                  0.00   Kurtosis:                         8.72\n",
      "===================================================================================\n",
      "\n",
      "Warnings:\n",
      "[1] Covariance matrix calculated using the outer product of gradients (complex-step).\n",
      "\n",
      "\n",
      "AR_4:\n",
      "                               SARIMAX Results                                \n",
      "==============================================================================\n",
      "Dep. Variable:           returns_norm   No. Observations:                 5020\n",
      "Model:                 ARIMA(4, 0, 0)   Log Likelihood              -40323.325\n",
      "Date:                Sun, 22 Jun 2025   AIC                          80658.650\n",
      "Time:                        11:41:41   BIC                          80697.777\n",
      "Sample:                    01-10-1994   HQIC                         80672.361\n",
      "                         - 04-05-2013                                         \n",
      "Covariance Type:                  opg                                         \n",
      "==============================================================================\n",
      "                 coef    std err          z      P>|z|      [0.025      0.975]\n",
      "------------------------------------------------------------------------------\n",
      "const        -11.9731      9.957     -1.202      0.229     -31.489       7.543\n",
      "ar.L1         -0.0245      0.009     -2.769      0.006      -0.042      -0.007\n",
      "ar.L2         -0.0496      0.008     -6.325      0.000      -0.065      -0.034\n",
      "ar.L3         -0.0802      0.008     -9.990      0.000      -0.096      -0.064\n",
      "ar.L4          0.0464      0.008      5.647      0.000       0.030       0.063\n",
      "sigma2      5.555e+05   5990.223     92.734      0.000    5.44e+05    5.67e+05\n",
      "===================================================================================\n",
      "Ljung-Box (L1) (Q):                   0.04   Jarque-Bera (JB):              6581.03\n",
      "Prob(Q):                              0.84   Prob(JB):                         0.00\n",
      "Heteroskedasticity (H):               2.00   Skew:                             0.12\n",
      "Prob(H) (two-sided):                  0.00   Kurtosis:                         8.60\n",
      "===================================================================================\n",
      "\n",
      "Warnings:\n",
      "[1] Covariance matrix calculated using the outer product of gradients (complex-step).\n",
      "\n",
      "\n",
      "AR_5:\n",
      "                               SARIMAX Results                                \n",
      "==============================================================================\n",
      "Dep. Variable:           returns_norm   No. Observations:                 5020\n",
      "Model:                 ARIMA(5, 0, 0)   Log Likelihood              -40314.385\n",
      "Date:                Sun, 22 Jun 2025   AIC                          80642.769\n",
      "Time:                        11:41:41   BIC                          80688.418\n",
      "Sample:                    01-10-1994   HQIC                         80658.765\n",
      "                         - 04-05-2013                                         \n",
      "Covariance Type:                  opg                                         \n",
      "==============================================================================\n",
      "                 coef    std err          z      P>|z|      [0.025      0.975]\n",
      "------------------------------------------------------------------------------\n",
      "const        -11.9731      9.468     -1.265      0.206     -30.531       6.585\n",
      "ar.L1         -0.0217      0.009     -2.395      0.017      -0.040      -0.004\n",
      "ar.L2         -0.0544      0.008     -6.823      0.000      -0.070      -0.039\n",
      "ar.L3         -0.0831      0.008    -10.401      0.000      -0.099      -0.067\n",
      "ar.L4          0.0449      0.008      5.429      0.000       0.029       0.061\n",
      "ar.L5         -0.0596      0.008     -7.465      0.000      -0.075      -0.044\n",
      "sigma2      5.535e+05   5985.414     92.482      0.000    5.42e+05    5.65e+05\n",
      "===================================================================================\n",
      "Ljung-Box (L1) (Q):                   0.04   Jarque-Bera (JB):              6398.82\n",
      "Prob(Q):                              0.84   Prob(JB):                         0.00\n",
      "Heteroskedasticity (H):               2.00   Skew:                             0.17\n",
      "Prob(H) (two-sided):                  0.00   Kurtosis:                         8.52\n",
      "===================================================================================\n",
      "\n",
      "Warnings:\n",
      "[1] Covariance matrix calculated using the outer product of gradients (complex-step).\n",
      "\n",
      "\n",
      "AR_6:\n",
      "                               SARIMAX Results                                \n",
      "==============================================================================\n",
      "Dep. Variable:           returns_norm   No. Observations:                 5020\n",
      "Model:                 ARIMA(6, 0, 0)   Log Likelihood              -40308.940\n",
      "Date:                Sun, 22 Jun 2025   AIC                          80633.880\n",
      "Time:                        11:41:41   BIC                          80686.050\n",
      "Sample:                    01-10-1994   HQIC                         80652.161\n",
      "                         - 04-05-2013                                         \n",
      "Covariance Type:                  opg                                         \n",
      "==============================================================================\n",
      "                 coef    std err          z      P>|z|      [0.025      0.975]\n",
      "------------------------------------------------------------------------------\n",
      "const        -11.9731      9.123     -1.312      0.189     -29.854       5.908\n",
      "ar.L1         -0.0245      0.009     -2.639      0.008      -0.043      -0.006\n",
      "ar.L2         -0.0523      0.008     -6.501      0.000      -0.068      -0.037\n",
      "ar.L3         -0.0870      0.008    -10.846      0.000      -0.103      -0.071\n",
      "ar.L4          0.0424      0.008      5.130      0.000       0.026       0.059\n",
      "ar.L5         -0.0607      0.008     -7.562      0.000      -0.076      -0.045\n",
      "ar.L6         -0.0466      0.009     -5.213      0.000      -0.064      -0.029\n",
      "sigma2      5.524e+05   5975.606     92.451      0.000    5.41e+05    5.64e+05\n",
      "===================================================================================\n",
      "Ljung-Box (L1) (Q):                   0.00   Jarque-Bera (JB):              6487.31\n",
      "Prob(Q):                              0.97   Prob(JB):                         0.00\n",
      "Heteroskedasticity (H):               2.00   Skew:                             0.20\n",
      "Prob(H) (two-sided):                  0.00   Kurtosis:                         8.56\n",
      "===================================================================================\n",
      "\n",
      "Warnings:\n",
      "[1] Covariance matrix calculated using the outer product of gradients (complex-step).\n",
      "\n",
      "\n",
      "AR_7:\n",
      "                               SARIMAX Results                                \n",
      "==============================================================================\n",
      "Dep. Variable:           returns_norm   No. Observations:                 5020\n",
      "Model:                 ARIMA(7, 0, 0)   Log Likelihood              -40308.642\n",
      "Date:                Sun, 22 Jun 2025   AIC                          80635.285\n",
      "Time:                        11:41:41   BIC                          80693.975\n",
      "Sample:                    01-10-1994   HQIC                         80655.851\n",
      "                         - 04-05-2013                                         \n",
      "Covariance Type:                  opg                                         \n",
      "==============================================================================\n",
      "                 coef    std err          z      P>|z|      [0.025      0.975]\n",
      "------------------------------------------------------------------------------\n",
      "const        -11.9731      9.262     -1.293      0.196     -30.126       6.179\n",
      "ar.L1         -0.0240      0.009     -2.577      0.010      -0.042      -0.006\n",
      "ar.L2         -0.0517      0.008     -6.370      0.000      -0.068      -0.036\n",
      "ar.L3         -0.0874      0.008    -10.717      0.000      -0.103      -0.071\n",
      "ar.L4          0.0433      0.008      5.178      0.000       0.027       0.060\n",
      "ar.L5         -0.0601      0.008     -7.457      0.000      -0.076      -0.044\n",
      "ar.L6         -0.0463      0.009     -5.169      0.000      -0.064      -0.029\n",
      "ar.L7          0.0109      0.009      1.204      0.228      -0.007       0.029\n",
      "sigma2      5.524e+05   6023.895     91.707      0.000    5.41e+05    5.64e+05\n",
      "===================================================================================\n",
      "Ljung-Box (L1) (Q):                   0.00   Jarque-Bera (JB):              6448.21\n",
      "Prob(Q):                              0.99   Prob(JB):                         0.00\n",
      "Heteroskedasticity (H):               2.00   Skew:                             0.19\n",
      "Prob(H) (two-sided):                  0.00   Kurtosis:                         8.54\n",
      "===================================================================================\n",
      "\n",
      "Warnings:\n",
      "[1] Covariance matrix calculated using the outer product of gradients (complex-step).\n",
      "\n",
      "\n",
      "AR_8:\n",
      "                               SARIMAX Results                                \n",
      "==============================================================================\n",
      "Dep. Variable:           returns_norm   No. Observations:                 5020\n",
      "Model:                 ARIMA(8, 0, 0)   Log Likelihood              -40307.595\n",
      "Date:                Sun, 22 Jun 2025   AIC                          80635.189\n",
      "Time:                        11:41:41   BIC                          80700.401\n",
      "Sample:                    01-10-1994   HQIC                         80658.041\n",
      "                         - 04-05-2013                                         \n",
      "Covariance Type:                  opg                                         \n",
      "==============================================================================\n",
      "                 coef    std err          z      P>|z|      [0.025      0.975]\n",
      "------------------------------------------------------------------------------\n",
      "const        -11.9731      9.530     -1.256      0.209     -30.651       6.705\n",
      "ar.L1         -0.0243      0.009     -2.584      0.010      -0.043      -0.006\n",
      "ar.L2         -0.0507      0.008     -6.245      0.000      -0.067      -0.035\n",
      "ar.L3         -0.0862      0.008    -10.451      0.000      -0.102      -0.070\n",
      "ar.L4          0.0424      0.008      5.055      0.000       0.026       0.059\n",
      "ar.L5         -0.0583      0.008     -7.096      0.000      -0.074      -0.042\n",
      "ar.L6         -0.0452      0.009     -5.039      0.000      -0.063      -0.028\n",
      "ar.L7          0.0114      0.009      1.255      0.209      -0.006       0.029\n",
      "ar.L8          0.0204      0.009      2.151      0.031       0.002       0.039\n",
      "sigma2      5.522e+05   6021.350     91.708      0.000     5.4e+05    5.64e+05\n",
      "===================================================================================\n",
      "Ljung-Box (L1) (Q):                   0.00   Jarque-Bera (JB):              6437.24\n",
      "Prob(Q):                              1.00   Prob(JB):                         0.00\n",
      "Heteroskedasticity (H):               2.00   Skew:                             0.18\n",
      "Prob(H) (two-sided):                  0.00   Kurtosis:                         8.54\n",
      "===================================================================================\n",
      "\n",
      "Warnings:\n",
      "[1] Covariance matrix calculated using the outer product of gradients (complex-step).\n",
      "\n",
      "\n",
      "AR_9:\n",
      "                               SARIMAX Results                                \n",
      "==============================================================================\n",
      "Dep. Variable:           returns_norm   No. Observations:                 5020\n",
      "Model:                 ARIMA(9, 0, 0)   Log Likelihood              -40307.585\n",
      "Date:                Sun, 22 Jun 2025   AIC                          80637.169\n",
      "Time:                        11:41:41   BIC                          80708.902\n",
      "Sample:                    01-10-1994   HQIC                         80662.306\n",
      "                         - 04-05-2013                                         \n",
      "Covariance Type:                  opg                                         \n",
      "==============================================================================\n",
      "                 coef    std err          z      P>|z|      [0.025      0.975]\n",
      "------------------------------------------------------------------------------\n",
      "const        -11.9731      9.581     -1.250      0.211     -30.752       6.805\n",
      "ar.L1         -0.0242      0.009     -2.577      0.010      -0.043      -0.006\n",
      "ar.L2         -0.0507      0.008     -6.210      0.000      -0.067      -0.035\n",
      "ar.L3         -0.0863      0.008    -10.454      0.000      -0.102      -0.070\n",
      "ar.L4          0.0423      0.008      5.035      0.000       0.026       0.059\n",
      "ar.L5         -0.0582      0.008     -6.973      0.000      -0.075      -0.042\n",
      "ar.L6         -0.0454      0.009     -5.003      0.000      -0.063      -0.028\n",
      "ar.L7          0.0113      0.009      1.224      0.221      -0.007       0.029\n",
      "ar.L8          0.0204      0.010      2.145      0.032       0.002       0.039\n",
      "ar.L9         -0.0020      0.009     -0.231      0.817      -0.019       0.015\n",
      "sigma2      5.523e+05   6086.090     90.750      0.000     5.4e+05    5.64e+05\n",
      "===================================================================================\n",
      "Ljung-Box (L1) (Q):                   0.00   Jarque-Bera (JB):              6448.63\n",
      "Prob(Q):                              1.00   Prob(JB):                         0.00\n",
      "Heteroskedasticity (H):               2.00   Skew:                             0.18\n",
      "Prob(H) (two-sided):                  0.00   Kurtosis:                         8.54\n",
      "===================================================================================\n",
      "\n",
      "Warnings:\n",
      "[1] Covariance matrix calculated using the outer product of gradients (complex-step).\n",
      "\n",
      "\n"
     ]
    }
   ],
   "source": [
    "model_generator_returns_norm = ModelGenerator(data=df[\"returns_norm\"])\n",
    "max_lags = 9\n",
    "param_grid = [{\"order\": (p, 0, 0)} for p in range(1, max_lags + 1)]\n",
    "model_generator_returns_norm.generate_models(\n",
    "    model_function=ARIMA, model_name_prefix=\"AR\", param_grid=param_grid\n",
    ")\n",
    "\n",
    "model_generator_returns_norm.summarise_results()"
   ]
  },
  {
   "cell_type": "markdown",
   "metadata": {},
   "source": [
    "#### Create a dataframe to tabulate measures of interest"
   ]
  },
  {
   "cell_type": "code",
   "execution_count": 22,
   "metadata": {},
   "outputs": [
    {
     "data": {
      "application/vnd.microsoft.datawrangler.viewer.v0+json": {
       "columns": [
        {
         "name": "model",
         "rawType": "object",
         "type": "string"
        },
        {
         "name": "ar",
         "rawType": "int64",
         "type": "integer"
        },
        {
         "name": "llf",
         "rawType": "float64",
         "type": "float"
        },
        {
         "name": "aic",
         "rawType": "float64",
         "type": "float"
        },
        {
         "name": "bic",
         "rawType": "float64",
         "type": "float"
        },
        {
         "name": "hqic",
         "rawType": "float64",
         "type": "float"
        },
        {
         "name": "final_lag",
         "rawType": "object",
         "type": "string"
        },
        {
         "name": "final_lag_pval",
         "rawType": "float64",
         "type": "float"
        },
        {
         "name": "llr_test_models",
         "rawType": "object",
         "type": "unknown"
        },
        {
         "name": "llr_test_pval",
         "rawType": "float64",
         "type": "float"
        }
       ],
       "ref": "38e64ebf-adc1-46a2-9104-3d45bd30639d",
       "rows": [
        [
         "AR_1",
         "1",
         "-40351.74336129766",
         "80709.48672259532",
         "80729.05027823338",
         "80716.34205523913",
         "ar.L1",
         "0.00699",
         null,
         null
        ],
        [
         "AR_2",
         "2",
         "-40345.4504208895",
         "80698.900841779",
         "80724.98558262974",
         "80708.04128530409",
         "ar.L2",
         "0.0",
         "AR_2 vs AR_1",
         "0.00038867181634209504"
        ],
        [
         "AR_3",
         "3",
         "-40328.733136711206",
         "80667.46627342241",
         "80700.07219948585",
         "80678.89182782877",
         "ar.L3",
         "0.0",
         "AR_3 vs AR_2",
         "7.37022500249787e-09"
        ],
        [
         "AR_4",
         "4",
         "-40323.32518154495",
         "80658.6503630899",
         "80697.77747436601",
         "80672.36102837753",
         "ar.L4",
         "0.0",
         "AR_4 vs AR_3",
         "0.0010063153176778357"
        ],
        [
         "AR_5",
         "5",
         "-40314.38461584697",
         "80642.76923169394",
         "80688.41752818273",
         "80658.76500786285",
         "ar.L5",
         "0.0",
         "AR_5 vs AR_4",
         "2.351409201964073e-05"
        ],
        [
         "AR_6",
         "6",
         "-40308.94001738804",
         "80633.88003477608",
         "80686.04951647756",
         "80652.16092182627",
         "ar.L6",
         "0.0",
         "AR_6 vs AR_5",
         "0.0009672675779956661"
        ],
        [
         "AR_7",
         "7",
         "-40308.642409769694",
         "80635.28481953939",
         "80693.97548645356",
         "80655.85081747084",
         "ar.L7",
         "0.2284",
         "AR_7 vs AR_6",
         "0.44040947553289156"
        ],
        [
         "AR_8",
         "8",
         "-40307.59469674169",
         "80635.18939348338",
         "80700.40124561024",
         "80658.0405022961",
         "ar.L8",
         "0.03146",
         "AR_8 vs AR_7",
         "0.14774052154254597"
        ],
        [
         "AR_9",
         "9",
         "-40307.58468172111",
         "80637.16936344223",
         "80708.90240078176",
         "80662.30558313623",
         "ar.L9",
         "0.81735",
         "AR_9 vs AR_8",
         "0.8874532147895795"
        ]
       ],
       "shape": {
        "columns": 9,
        "rows": 9
       }
      },
      "text/html": [
       "<div>\n",
       "<style scoped>\n",
       "    .dataframe tbody tr th:only-of-type {\n",
       "        vertical-align: middle;\n",
       "    }\n",
       "\n",
       "    .dataframe tbody tr th {\n",
       "        vertical-align: top;\n",
       "    }\n",
       "\n",
       "    .dataframe thead th {\n",
       "        text-align: right;\n",
       "    }\n",
       "</style>\n",
       "<table border=\"1\" class=\"dataframe\">\n",
       "  <thead>\n",
       "    <tr style=\"text-align: right;\">\n",
       "      <th></th>\n",
       "      <th>ar</th>\n",
       "      <th>llf</th>\n",
       "      <th>aic</th>\n",
       "      <th>bic</th>\n",
       "      <th>hqic</th>\n",
       "      <th>final_lag</th>\n",
       "      <th>final_lag_pval</th>\n",
       "      <th>llr_test_models</th>\n",
       "      <th>llr_test_pval</th>\n",
       "    </tr>\n",
       "    <tr>\n",
       "      <th>model</th>\n",
       "      <th></th>\n",
       "      <th></th>\n",
       "      <th></th>\n",
       "      <th></th>\n",
       "      <th></th>\n",
       "      <th></th>\n",
       "      <th></th>\n",
       "      <th></th>\n",
       "      <th></th>\n",
       "    </tr>\n",
       "  </thead>\n",
       "  <tbody>\n",
       "    <tr>\n",
       "      <th>AR_1</th>\n",
       "      <td>1</td>\n",
       "      <td>-40351.743361</td>\n",
       "      <td>80709.486723</td>\n",
       "      <td>80729.050278</td>\n",
       "      <td>80716.342055</td>\n",
       "      <td>ar.L1</td>\n",
       "      <td>0.00699</td>\n",
       "      <td>NaN</td>\n",
       "      <td>NaN</td>\n",
       "    </tr>\n",
       "    <tr>\n",
       "      <th>AR_2</th>\n",
       "      <td>2</td>\n",
       "      <td>-40345.450421</td>\n",
       "      <td>80698.900842</td>\n",
       "      <td>80724.985583</td>\n",
       "      <td>80708.041285</td>\n",
       "      <td>ar.L2</td>\n",
       "      <td>0.00000</td>\n",
       "      <td>AR_2 vs AR_1</td>\n",
       "      <td>3.886718e-04</td>\n",
       "    </tr>\n",
       "    <tr>\n",
       "      <th>AR_3</th>\n",
       "      <td>3</td>\n",
       "      <td>-40328.733137</td>\n",
       "      <td>80667.466273</td>\n",
       "      <td>80700.072199</td>\n",
       "      <td>80678.891828</td>\n",
       "      <td>ar.L3</td>\n",
       "      <td>0.00000</td>\n",
       "      <td>AR_3 vs AR_2</td>\n",
       "      <td>7.370225e-09</td>\n",
       "    </tr>\n",
       "    <tr>\n",
       "      <th>AR_4</th>\n",
       "      <td>4</td>\n",
       "      <td>-40323.325182</td>\n",
       "      <td>80658.650363</td>\n",
       "      <td>80697.777474</td>\n",
       "      <td>80672.361028</td>\n",
       "      <td>ar.L4</td>\n",
       "      <td>0.00000</td>\n",
       "      <td>AR_4 vs AR_3</td>\n",
       "      <td>1.006315e-03</td>\n",
       "    </tr>\n",
       "    <tr>\n",
       "      <th>AR_5</th>\n",
       "      <td>5</td>\n",
       "      <td>-40314.384616</td>\n",
       "      <td>80642.769232</td>\n",
       "      <td>80688.417528</td>\n",
       "      <td>80658.765008</td>\n",
       "      <td>ar.L5</td>\n",
       "      <td>0.00000</td>\n",
       "      <td>AR_5 vs AR_4</td>\n",
       "      <td>2.351409e-05</td>\n",
       "    </tr>\n",
       "    <tr>\n",
       "      <th>AR_6</th>\n",
       "      <td>6</td>\n",
       "      <td>-40308.940017</td>\n",
       "      <td>80633.880035</td>\n",
       "      <td>80686.049516</td>\n",
       "      <td>80652.160922</td>\n",
       "      <td>ar.L6</td>\n",
       "      <td>0.00000</td>\n",
       "      <td>AR_6 vs AR_5</td>\n",
       "      <td>9.672676e-04</td>\n",
       "    </tr>\n",
       "    <tr>\n",
       "      <th>AR_7</th>\n",
       "      <td>7</td>\n",
       "      <td>-40308.642410</td>\n",
       "      <td>80635.284820</td>\n",
       "      <td>80693.975486</td>\n",
       "      <td>80655.850817</td>\n",
       "      <td>ar.L7</td>\n",
       "      <td>0.22840</td>\n",
       "      <td>AR_7 vs AR_6</td>\n",
       "      <td>4.404095e-01</td>\n",
       "    </tr>\n",
       "    <tr>\n",
       "      <th>AR_8</th>\n",
       "      <td>8</td>\n",
       "      <td>-40307.594697</td>\n",
       "      <td>80635.189393</td>\n",
       "      <td>80700.401246</td>\n",
       "      <td>80658.040502</td>\n",
       "      <td>ar.L8</td>\n",
       "      <td>0.03146</td>\n",
       "      <td>AR_8 vs AR_7</td>\n",
       "      <td>1.477405e-01</td>\n",
       "    </tr>\n",
       "    <tr>\n",
       "      <th>AR_9</th>\n",
       "      <td>9</td>\n",
       "      <td>-40307.584682</td>\n",
       "      <td>80637.169363</td>\n",
       "      <td>80708.902401</td>\n",
       "      <td>80662.305583</td>\n",
       "      <td>ar.L9</td>\n",
       "      <td>0.81735</td>\n",
       "      <td>AR_9 vs AR_8</td>\n",
       "      <td>8.874532e-01</td>\n",
       "    </tr>\n",
       "  </tbody>\n",
       "</table>\n",
       "</div>"
      ],
      "text/plain": [
       "       ar           llf           aic           bic          hqic final_lag  \\\n",
       "model                                                                         \n",
       "AR_1    1 -40351.743361  80709.486723  80729.050278  80716.342055     ar.L1   \n",
       "AR_2    2 -40345.450421  80698.900842  80724.985583  80708.041285     ar.L2   \n",
       "AR_3    3 -40328.733137  80667.466273  80700.072199  80678.891828     ar.L3   \n",
       "AR_4    4 -40323.325182  80658.650363  80697.777474  80672.361028     ar.L4   \n",
       "AR_5    5 -40314.384616  80642.769232  80688.417528  80658.765008     ar.L5   \n",
       "AR_6    6 -40308.940017  80633.880035  80686.049516  80652.160922     ar.L6   \n",
       "AR_7    7 -40308.642410  80635.284820  80693.975486  80655.850817     ar.L7   \n",
       "AR_8    8 -40307.594697  80635.189393  80700.401246  80658.040502     ar.L8   \n",
       "AR_9    9 -40307.584682  80637.169363  80708.902401  80662.305583     ar.L9   \n",
       "\n",
       "       final_lag_pval llr_test_models  llr_test_pval  \n",
       "model                                                 \n",
       "AR_1          0.00699             NaN            NaN  \n",
       "AR_2          0.00000    AR_2 vs AR_1   3.886718e-04  \n",
       "AR_3          0.00000    AR_3 vs AR_2   7.370225e-09  \n",
       "AR_4          0.00000    AR_4 vs AR_3   1.006315e-03  \n",
       "AR_5          0.00000    AR_5 vs AR_4   2.351409e-05  \n",
       "AR_6          0.00000    AR_6 vs AR_5   9.672676e-04  \n",
       "AR_7          0.22840    AR_7 vs AR_6   4.404095e-01  \n",
       "AR_8          0.03146    AR_8 vs AR_7   1.477405e-01  \n",
       "AR_9          0.81735    AR_9 vs AR_8   8.874532e-01  "
      ]
     },
     "execution_count": 22,
     "metadata": {},
     "output_type": "execute_result"
    }
   ],
   "source": [
    "metrics_returns_norm = MetricsGenerator(models=model_generator_returns_norm.models)\n",
    "metrics_returns_norm.generate_metrics_table()\n",
    "metrics_returns_norm.evaluation"
   ]
  },
  {
   "cell_type": "markdown",
   "metadata": {},
   "source": [
    "- The llf gradually becomes less negative, with slowing down AR_6 onwards.\n",
    "- The AIC and HQIC decrease till AR_6 and then start to increase.\n",
    "- The BIC reduces till AR_5 and then starts increasing."
   ]
  },
  {
   "cell_type": "code",
   "execution_count": 23,
   "metadata": {},
   "outputs": [
    {
     "data": {
      "application/vnd.microsoft.datawrangler.viewer.v0+json": {
       "columns": [
        {
         "name": "model",
         "rawType": "object",
         "type": "string"
        },
        {
         "name": "ar",
         "rawType": "int64",
         "type": "integer"
        },
        {
         "name": "llf",
         "rawType": "float64",
         "type": "float"
        },
        {
         "name": "aic",
         "rawType": "float64",
         "type": "float"
        },
        {
         "name": "bic",
         "rawType": "float64",
         "type": "float"
        },
        {
         "name": "hqic",
         "rawType": "float64",
         "type": "float"
        },
        {
         "name": "final_lag",
         "rawType": "object",
         "type": "string"
        },
        {
         "name": "final_lag_pval",
         "rawType": "float64",
         "type": "float"
        },
        {
         "name": "llr_test_models",
         "rawType": "object",
         "type": "string"
        },
        {
         "name": "llr_test_pval",
         "rawType": "float64",
         "type": "float"
        }
       ],
       "ref": "7fff42fe-0754-4a0b-b585-b130ce2851e6",
       "rows": [
        [
         "AR_7",
         "7",
         "-40308.642409769694",
         "80635.28481953939",
         "80693.97548645356",
         "80655.85081747084",
         "ar.L7",
         "0.2284",
         "AR_7 vs AR_6",
         "0.44040947553289156"
        ],
        [
         "AR_9",
         "9",
         "-40307.58468172111",
         "80637.16936344223",
         "80708.90240078176",
         "80662.30558313623",
         "ar.L9",
         "0.81735",
         "AR_9 vs AR_8",
         "0.8874532147895795"
        ]
       ],
       "shape": {
        "columns": 9,
        "rows": 2
       }
      },
      "text/html": [
       "<div>\n",
       "<style scoped>\n",
       "    .dataframe tbody tr th:only-of-type {\n",
       "        vertical-align: middle;\n",
       "    }\n",
       "\n",
       "    .dataframe tbody tr th {\n",
       "        vertical-align: top;\n",
       "    }\n",
       "\n",
       "    .dataframe thead th {\n",
       "        text-align: right;\n",
       "    }\n",
       "</style>\n",
       "<table border=\"1\" class=\"dataframe\">\n",
       "  <thead>\n",
       "    <tr style=\"text-align: right;\">\n",
       "      <th></th>\n",
       "      <th>ar</th>\n",
       "      <th>llf</th>\n",
       "      <th>aic</th>\n",
       "      <th>bic</th>\n",
       "      <th>hqic</th>\n",
       "      <th>final_lag</th>\n",
       "      <th>final_lag_pval</th>\n",
       "      <th>llr_test_models</th>\n",
       "      <th>llr_test_pval</th>\n",
       "    </tr>\n",
       "    <tr>\n",
       "      <th>model</th>\n",
       "      <th></th>\n",
       "      <th></th>\n",
       "      <th></th>\n",
       "      <th></th>\n",
       "      <th></th>\n",
       "      <th></th>\n",
       "      <th></th>\n",
       "      <th></th>\n",
       "      <th></th>\n",
       "    </tr>\n",
       "  </thead>\n",
       "  <tbody>\n",
       "    <tr>\n",
       "      <th>AR_7</th>\n",
       "      <td>7</td>\n",
       "      <td>-40308.642410</td>\n",
       "      <td>80635.284820</td>\n",
       "      <td>80693.975486</td>\n",
       "      <td>80655.850817</td>\n",
       "      <td>ar.L7</td>\n",
       "      <td>0.22840</td>\n",
       "      <td>AR_7 vs AR_6</td>\n",
       "      <td>0.440409</td>\n",
       "    </tr>\n",
       "    <tr>\n",
       "      <th>AR_9</th>\n",
       "      <td>9</td>\n",
       "      <td>-40307.584682</td>\n",
       "      <td>80637.169363</td>\n",
       "      <td>80708.902401</td>\n",
       "      <td>80662.305583</td>\n",
       "      <td>ar.L9</td>\n",
       "      <td>0.81735</td>\n",
       "      <td>AR_9 vs AR_8</td>\n",
       "      <td>0.887453</td>\n",
       "    </tr>\n",
       "  </tbody>\n",
       "</table>\n",
       "</div>"
      ],
      "text/plain": [
       "       ar           llf           aic           bic          hqic final_lag  \\\n",
       "model                                                                         \n",
       "AR_7    7 -40308.642410  80635.284820  80693.975486  80655.850817     ar.L7   \n",
       "AR_9    9 -40307.584682  80637.169363  80708.902401  80662.305583     ar.L9   \n",
       "\n",
       "       final_lag_pval llr_test_models  llr_test_pval  \n",
       "model                                                 \n",
       "AR_7          0.22840    AR_7 vs AR_6       0.440409  \n",
       "AR_9          0.81735    AR_9 vs AR_8       0.887453  "
      ]
     },
     "execution_count": 23,
     "metadata": {},
     "output_type": "execute_result"
    }
   ],
   "source": [
    "# Find models where both the final lag and the LLR Test p-values fail to reach significance.\n",
    "metrics_returns_norm.evaluation.query(\n",
    "    \"final_lag_pval >= 0.05 and llr_test_pval >= 0.05\"\n",
    ")"
   ]
  },
  {
   "cell_type": "code",
   "execution_count": 24,
   "metadata": {},
   "outputs": [
    {
     "data": {
      "image/png": "[encoded data removed]",
      "text/plain": [
       "<Figure size 1000x800 with 2 Axes>"
      ]
     },
     "metadata": {},
     "output_type": "display_data"
    }
   ],
   "source": [
    "# Create 2 subplots\n",
    "fig, axes = plt.subplots(nrows=2, ncols=1, figsize=(10, 8))\n",
    "\n",
    "# Plot final lag p-value on the first subplot\n",
    "metrics_returns_norm.evaluation[[\"final_lag_pval\", \"llr_test_pval\"]].plot(ax=axes[0])\n",
    "axes[0].set_title(\"P-Values\")\n",
    "axes[1].set_xlabel(\"Model\")\n",
    "axes[0].set_ylabel(\"P-Value\")\n",
    "\n",
    "# Plot AIC, BIC, HQIC on the second subplot\n",
    "metrics_returns_norm.evaluation[[\"aic\", \"bic\", \"hqic\"]].plot(ax=axes[1])\n",
    "axes[1].set_title(\"Model Evaluation\")\n",
    "axes[1].set_xlabel(\"Model\")\n",
    "axes[1].set_ylabel(\"Metric Value\")\n",
    "axes[1].legend(loc=\"best\")\n",
    "\n",
    "plt.tight_layout()\n",
    "plt.show()"
   ]
  },
  {
   "cell_type": "markdown",
   "metadata": {},
   "source": [
    "- The first model which satisfies the p-values of both the final lag and the LLR Test being non-significant is AR(6).\n",
    "- Model AR(6) is selected and a LLR Test is performed against AR(1) to confirm significance."
   ]
  },
  {
   "cell_type": "code",
   "execution_count": 25,
   "metadata": {},
   "outputs": [
    {
     "data": {
      "text/plain": [
       "np.float64(5.616333392316587e-17)"
      ]
     },
     "execution_count": 25,
     "metadata": {},
     "output_type": "execute_result"
    }
   ],
   "source": [
    "# Calculate degrees of freedom from the maximum lags of each model\n",
    "deg_freedom_returns_norm = (\n",
    "    metrics_returns_norm.evaluation.loc[\"AR_6\", \"ar\"]\n",
    "    - metrics_returns_norm.evaluation.loc[\"AR_1\", \"ar\"]\n",
    ")\n",
    "\n",
    "metrics_returns_norm.llr_test(\n",
    "    metrics_returns_norm.evaluation.loc[\"AR_1\", \"llf\"],\n",
    "    metrics_returns_norm.evaluation.loc[\"AR_6\", \"llf\"],\n",
    "    df=deg_freedom_returns_norm,\n",
    ")"
   ]
  },
  {
   "cell_type": "markdown",
   "metadata": {},
   "source": [
    "The returned p-value indicates that the AR_6 model is significantly better than the AR_1 model."
   ]
  },
  {
   "cell_type": "markdown",
   "metadata": {},
   "source": [
    "## Analysing the Residuals"
   ]
  },
  {
   "cell_type": "code",
   "execution_count": 26,
   "metadata": {},
   "outputs": [],
   "source": [
    "# Get residuals from the AR_6 model result\n",
    "df[\"residuals_returns\"] = model_generator_returns.get_model(\"AR_6\")[1].resid"
   ]
  },
  {
   "cell_type": "code",
   "execution_count": 27,
   "metadata": {},
   "outputs": [
    {
     "data": {
      "text/plain": [
       "np.float64(-4.853040551058674e-05)"
      ]
     },
     "execution_count": 27,
     "metadata": {},
     "output_type": "execute_result"
    }
   ],
   "source": [
    "df[\"residuals_returns\"].mean()"
   ]
  },
  {
   "cell_type": "code",
   "execution_count": 28,
   "metadata": {},
   "outputs": [
    {
     "data": {
      "text/plain": [
       "np.float64(1.3559802128715273)"
      ]
     },
     "execution_count": 28,
     "metadata": {},
     "output_type": "execute_result"
    }
   ],
   "source": [
    "df[\"residuals_returns\"].var()"
   ]
  },
  {
   "cell_type": "code",
   "execution_count": 29,
   "metadata": {},
   "outputs": [
    {
     "data": {
      "text/plain": [
       "<Axes: >"
      ]
     },
     "execution_count": 29,
     "metadata": {},
     "output_type": "execute_result"
    },
    {
     "data": {
      "image/png": "[encoded data removed]",
      "text/plain": [
       "<Figure size 640x480 with 1 Axes>"
      ]
     },
     "metadata": {},
     "output_type": "display_data"
    }
   ],
   "source": [
    "df[\"residuals_returns\"].plot.box()"
   ]
  },
  {
   "cell_type": "markdown",
   "metadata": {},
   "source": [
    "- The mean is close to 0 and the variance is low, which suggests that the model performs well.\n",
    "- The mean close to 0 resembles that of white noise data."
   ]
  },
  {
   "cell_type": "code",
   "execution_count": 30,
   "metadata": {},
   "outputs": [
    {
     "data": {
      "text/plain": [
       "(np.float64(-70.78411836332882),\n",
       " 0.0,\n",
       " 0,\n",
       " 5019,\n",
       " {'1%': np.float64(-3.4316535759402753),\n",
       "  '5%': np.float64(-2.8621160400844468),\n",
       "  '10%': np.float64(-2.567076626752987)},\n",
       " np.float64(15692.570807333155))"
      ]
     },
     "execution_count": 30,
     "metadata": {},
     "output_type": "execute_result"
    }
   ],
   "source": [
    "# ADF Test\n",
    "sts.adfuller(df[\"residuals_returns\"])"
   ]
  },
  {
   "cell_type": "markdown",
   "metadata": {},
   "source": [
    "- The **ADF** t-statistic is much more negative than the the 5% critical value and the p-value is 0, both of which suggest stationarity."
   ]
  },
  {
   "cell_type": "code",
   "execution_count": 31,
   "metadata": {},
   "outputs": [
    {
     "data": {
      "image/png": "[encoded data removed]",
      "text/plain": [
       "<Figure size 640x480 with 1 Axes>"
      ]
     },
     "metadata": {},
     "output_type": "display_data"
    }
   ],
   "source": [
    "# Plot the ACF for residuals\n",
    "sgt.plot_acf(df[\"residuals_returns\"], zero=False, lags=40, auto_ylims=True)\n",
    "plt.title(\"ACF: FTSE Returns Residuals\", size=24)\n",
    "plt.xlabel(\"Lags\")\n",
    "plt.ylabel(\"Autocorrelation Coefficient\")\n",
    "plt.show()"
   ]
  },
  {
   "cell_type": "markdown",
   "metadata": {},
   "source": [
    "The majority of residuals are not significantly different from 0, which fits the characteristics of white noise. However, 7 values are significantly different from 0, which indicate that there might be a better predictor."
   ]
  },
  {
   "cell_type": "code",
   "execution_count": null,
   "metadata": {},
   "outputs": [
    {
     "data": {
      "image/png": "[encoded data removed]",
      "text/plain": [
       "<Figure size 2000x500 with 1 Axes>"
      ]
     },
     "metadata": {},
     "output_type": "display_data"
    }
   ],
   "source": [
    "# Plot the residual time series.\n",
    "df[\"residuals_returns\"].plot(figsize=(20, 5))\n",
    "plt.show()"
   ]
  },
  {
   "cell_type": "markdown",
   "metadata": {},
   "source": [
    "- As with price residuals, the returns residuals are mostly low and the residuals time series does not indicate an obvious pattern, so the choice of model seems correct.\n",
    "- The spike around 2008 coincides with the start of The Great Recession"
   ]
  }
 ],
 "metadata": {
  "kernelspec": {
   "display_name": "time-series-analysis-python",
   "language": "python",
   "name": "python3"
  },
  "language_info": {
   "codemirror_mode": {
    "name": "ipython",
    "version": 3
   },
   "file_extension": ".py",
   "mimetype": "text/x-python",
   "name": "python",
   "nbconvert_exporter": "python",
   "pygments_lexer": "ipython3",
   "version": "3.13.2"
  }
 },
 "nbformat": 4,
 "nbformat_minor": 2
}
